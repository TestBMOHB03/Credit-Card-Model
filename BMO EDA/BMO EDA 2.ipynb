{
 "cells": [
  {
   "cell_type": "markdown",
   "metadata": {},
   "source": [
    "# BMO EDA 2"
   ]
  },
  {
   "cell_type": "code",
   "execution_count": 171,
   "metadata": {
    "collapsed": true
   },
   "outputs": [],
   "source": [
    "import pandas as pd\n",
    "import matplotlib.pyplot as plt\n",
    "import numpy as np\n",
    "import gcp\n",
    "import gcp.bigquery as bq"
   ]
  },
  {
   "cell_type": "markdown",
   "metadata": {},
   "source": [
    "## Method of payment to card balances\n",
    "\n",
    "### Scenario Description\n",
    "\n",
    "* This scenario purports to detect AML risks in which a money launder may be using money from hard-to-trace source to pay off credit card balance.\n",
    "* Categorize the credit payments by the payment methods and look for unusual patterns, e.g. consistent or large usage of ACH by a domestic customer to pay off the credit card\n",
    "* The following fields should be part of transaction data schema.\n",
    "\n",
    "|Transaction Type|Credit_Debit_Flag|\n",
    "|---|---|\n",
    "|Payment|C (Credit)|\n",
    "|Refund|C|\n",
    "|Reversal|C|\n",
    "|Award|C|\n",
    "|Purchase|D (Debit)|\n",
    "|Fee|D|\n",
    "|Interest Charge|D|\n",
    "|Penalty|D|\n",
    "\n",
    "|Payment Method|\n",
    "|---|\n",
    "|Cash|\n",
    "|Wire|\n",
    "|ACH|\n",
    "|Paper Check|\n",
    "|e-Check|\n",
    "|Online Transfer|\n",
    "|Payment at ATM|"
   ]
  },
  {
   "cell_type": "code",
   "execution_count": 172,
   "metadata": {
    "collapsed": true
   },
   "outputs": [],
   "source": [
    "%%sql --module use_case_2\n",
    "\n",
    "DEFINE QUERY trans_by_type_green\n",
    "SELECT\n",
    "  TRANSACTION_TYPE AS trans_type,\n",
    "  COUNT(*) AS num_trans\n",
    "FROM\n",
    "  [CreditCardv2.cc_trans_02052016]\n",
    "WHERE\n",
    "  USE_CASE == 'Use Case 2 - Green'\n",
    "  AND CREDIT_DEBIT == 'C'\n",
    "GROUP BY\n",
    "  trans_type\n",
    "ORDER BY\n",
    "  num_trans DESC\n",
    "\n",
    "DEFINE QUERY trans_by_type_yellow\n",
    "SELECT\n",
    "  TRANSACTION_TYPE AS trans_type,\n",
    "  COUNT(*) AS num_trans\n",
    "FROM\n",
    "  [CreditCardv2.cc_trans_02052016]\n",
    "WHERE\n",
    "  USE_CASE == 'Use Case 2 - Yellow'\n",
    "  AND CREDIT_DEBIT == 'C'\n",
    "GROUP BY\n",
    "  trans_type\n",
    "ORDER BY\n",
    "  num_trans DESC\n",
    "\n",
    "DEFINE QUERY trans_by_type_red\n",
    "SELECT\n",
    "  TRANSACTION_TYPE AS trans_type,\n",
    "  COUNT(*) AS num_trans\n",
    "FROM\n",
    "  [CreditCardv2.cc_trans_02052016]\n",
    "WHERE\n",
    "  USE_CASE == 'Use Case 2 - Red'\n",
    "  AND CREDIT_DEBIT == 'C'\n",
    "GROUP BY\n",
    "  trans_type\n",
    "ORDER BY\n",
    "  num_trans DESC\n",
    "\n",
    "DEFINE QUERY trans_by_type\n",
    "SELECT\n",
    "  USE_CASE as use_case,\n",
    "  TRANSACTION_TYPE AS trans_type,\n",
    "  COUNT(*) AS num_trans\n",
    "FROM\n",
    "  [CreditCardv2.cc_trans_02052016]\n",
    "WHERE\n",
    "  REGEXP_MATCH(USE_CASE, 'Use Case 2')\n",
    "  AND CREDIT_DEBIT == 'C'\n",
    "GROUP BY\n",
    "  trans_type, use_case\n",
    "ORDER BY\n",
    "  trans_type, use_case"
   ]
  },
  {
   "cell_type": "code",
   "execution_count": 173,
   "metadata": {
    "collapsed": false
   },
   "outputs": [
    {
     "data": {
      "text/html": [
       "\n",
       "    <div class=\"bqtv\" id=\"27_145560336253\"><table><tr><th>trans_type</th><th>num_trans</th></tr><tr><td>Online Transfer</td><td>16329172</td></tr><tr><td>e-Check Check</td><td>16321869</td></tr><tr><td>ATM PaymentPaper Check</td><td>13991200</td></tr><tr><td>ACH Payment</td><td>6995617</td></tr><tr><td>Payment</td><td>5789629</td></tr><tr><td>Wire Payment</td><td>4665774</td></tr><tr><td>ACH PaymentCash Payment</td><td>2332970</td></tr><tr><td>Paper Check</td><td>2332869</td></tr><tr><td>ATM Payment</td><td>2332031</td></tr><tr><td>Cash Payment</td><td>2330893</td></tr></table></div>\n",
       "    <br />(rows: 10, time: 3.4s,    82GB processed, job: job_uEOkQKLNq9qfXZBgoEa3EkBfeHs)<br />\n",
       "    <script>\n",
       "      require(['extensions/charting', 'element!27_145560336253', 'style!/static/extensions/charting.css'],\n",
       "        function(charts, dom) {\n",
       "          charts.render(dom,\n",
       "            {\n",
       "              chartStyle:\"table\",\n",
       "              dataName:\"8\",\n",
       "              fields:\"trans_type,num_trans\",\n",
       "              totalRows:10,\n",
       "              rowsPerPage:25,\n",
       "            }, {}, {\"rows\": [{\"c\": [{\"v\": \"Online Transfer\"}, {\"v\": 16329172}]}, {\"c\": [{\"v\": \"e-Check Check\"}, {\"v\": 16321869}]}, {\"c\": [{\"v\": \"ATM PaymentPaper Check\"}, {\"v\": 13991200}]}, {\"c\": [{\"v\": \"ACH Payment\"}, {\"v\": 6995617}]}, {\"c\": [{\"v\": \"Payment\"}, {\"v\": 5789629}]}, {\"c\": [{\"v\": \"Wire Payment\"}, {\"v\": 4665774}]}, {\"c\": [{\"v\": \"ACH PaymentCash Payment\"}, {\"v\": 2332970}]}, {\"c\": [{\"v\": \"Paper Check\"}, {\"v\": 2332869}]}, {\"c\": [{\"v\": \"ATM Payment\"}, {\"v\": 2332031}]}, {\"c\": [{\"v\": \"Cash Payment\"}, {\"v\": 2330893}]}], \"cols\": [{\"type\": \"string\", \"id\": \"trans_type\", \"label\": \"trans_type\"}, {\"type\": \"number\", \"id\": \"num_trans\", \"label\": \"num_trans\"}]});\n",
       "        }\n",
       "      );\n",
       "    </script>\n",
       "  "
      ],
      "text/plain": [
       "QueryResultsTable job_uEOkQKLNq9qfXZBgoEa3EkBfeHs"
      ]
     },
     "execution_count": 173,
     "metadata": {},
     "output_type": "execute_result"
    }
   ],
   "source": [
    "%bigquery execute --query use_case_2.trans_by_type_green"
   ]
  },
  {
   "cell_type": "code",
   "execution_count": 174,
   "metadata": {
    "collapsed": false
   },
   "outputs": [
    {
     "data": {
      "text/html": [
       "\n",
       "    <div class=\"bqgc\" id=\"28_145560336270\">\n",
       "    </div>\n",
       "    <script>\n",
       "      require(['extensions/charting', 'element!28_145560336270', 'style!/static/extensions/charting.css'],\n",
       "        function(charts, dom) {\n",
       "          charts.render(dom, {chartStyle:'columns', dataName:'1', fields:'*'}, {\"width\": 1000, \"legend\": \"none\", \"height\": 500}, {\"rows\": [{\"c\": [{\"v\": \"Online Transfer\"}, {\"v\": 16329172}]}, {\"c\": [{\"v\": \"e-Check Check\"}, {\"v\": 16321869}]}, {\"c\": [{\"v\": \"ATM PaymentPaper Check\"}, {\"v\": 13991200}]}, {\"c\": [{\"v\": \"ACH Payment\"}, {\"v\": 6995617}]}, {\"c\": [{\"v\": \"Payment\"}, {\"v\": 5789629}]}, {\"c\": [{\"v\": \"Wire Payment\"}, {\"v\": 4665774}]}, {\"c\": [{\"v\": \"ACH PaymentCash Payment\"}, {\"v\": 2332970}]}, {\"c\": [{\"v\": \"Paper Check\"}, {\"v\": 2332869}]}, {\"c\": [{\"v\": \"ATM Payment\"}, {\"v\": 2332031}]}, {\"c\": [{\"v\": \"Cash Payment\"}, {\"v\": 2330893}]}], \"cols\": [{\"type\": \"string\", \"id\": \"trans_type\", \"label\": \"trans_type\"}, {\"type\": \"number\", \"id\": \"num_trans\", \"label\": \"num_trans\"}]});\n",
       "        }\n",
       "      );\n",
       "    </script>\n",
       "  "
      ],
      "text/plain": [
       "<IPython.core.display.HTML object>"
      ]
     },
     "execution_count": 174,
     "metadata": {},
     "output_type": "execute_result"
    }
   ],
   "source": [
    "%%chart columns -d use_case_2.trans_by_type_green\n",
    "height: 500\n",
    "width: 1000\n",
    "legend: none"
   ]
  },
  {
   "cell_type": "code",
   "execution_count": 175,
   "metadata": {
    "collapsed": false
   },
   "outputs": [
    {
     "data": {
      "text/html": [
       "\n",
       "    <div class=\"bqtv\" id=\"29_145560336604\"><table><tr><th>trans_type</th><th>num_trans</th></tr><tr><td>e-Check Check</td><td>1291977</td></tr><tr><td>ACH Payment</td><td>1290448</td></tr><tr><td>Online Transfer</td><td>1287583</td></tr><tr><td>Wire Payment</td><td>859280</td></tr><tr><td>ATM PaymentPaper Check</td><td>858162</td></tr><tr><td>Payment</td><td>625110</td></tr><tr><td>ACH PaymentCash Payment</td><td>429694</td></tr><tr><td>Cash Payment</td><td>429398</td></tr><tr><td>ATM Payment</td><td>429245</td></tr><tr><td>Paper Check</td><td>429013</td></tr></table></div>\n",
       "    <br />(rows: 10, time: 2.5s,    82GB processed, job: job_Vw7aBb62NyS_Pz3Hq1zb3odjOnE)<br />\n",
       "    <script>\n",
       "      require(['extensions/charting', 'element!29_145560336604', 'style!/static/extensions/charting.css'],\n",
       "        function(charts, dom) {\n",
       "          charts.render(dom,\n",
       "            {\n",
       "              chartStyle:\"table\",\n",
       "              dataName:\"9\",\n",
       "              fields:\"trans_type,num_trans\",\n",
       "              totalRows:10,\n",
       "              rowsPerPage:25,\n",
       "            }, {}, {\"rows\": [{\"c\": [{\"v\": \"e-Check Check\"}, {\"v\": 1291977}]}, {\"c\": [{\"v\": \"ACH Payment\"}, {\"v\": 1290448}]}, {\"c\": [{\"v\": \"Online Transfer\"}, {\"v\": 1287583}]}, {\"c\": [{\"v\": \"Wire Payment\"}, {\"v\": 859280}]}, {\"c\": [{\"v\": \"ATM PaymentPaper Check\"}, {\"v\": 858162}]}, {\"c\": [{\"v\": \"Payment\"}, {\"v\": 625110}]}, {\"c\": [{\"v\": \"ACH PaymentCash Payment\"}, {\"v\": 429694}]}, {\"c\": [{\"v\": \"Cash Payment\"}, {\"v\": 429398}]}, {\"c\": [{\"v\": \"ATM Payment\"}, {\"v\": 429245}]}, {\"c\": [{\"v\": \"Paper Check\"}, {\"v\": 429013}]}], \"cols\": [{\"type\": \"string\", \"id\": \"trans_type\", \"label\": \"trans_type\"}, {\"type\": \"number\", \"id\": \"num_trans\", \"label\": \"num_trans\"}]});\n",
       "        }\n",
       "      );\n",
       "    </script>\n",
       "  "
      ],
      "text/plain": [
       "QueryResultsTable job_Vw7aBb62NyS_Pz3Hq1zb3odjOnE"
      ]
     },
     "execution_count": 175,
     "metadata": {},
     "output_type": "execute_result"
    }
   ],
   "source": [
    "%bigquery execute --query use_case_2.trans_by_type_yellow"
   ]
  },
  {
   "cell_type": "code",
   "execution_count": 176,
   "metadata": {
    "collapsed": false
   },
   "outputs": [
    {
     "data": {
      "text/html": [
       "\n",
       "    <div class=\"bqgc\" id=\"30_145560336621\">\n",
       "    </div>\n",
       "    <script>\n",
       "      require(['extensions/charting', 'element!30_145560336621', 'style!/static/extensions/charting.css'],\n",
       "        function(charts, dom) {\n",
       "          charts.render(dom, {chartStyle:'columns', dataName:'3', fields:'*'}, {\"width\": 1000, \"legend\": \"none\", \"height\": 500}, {\"rows\": [{\"c\": [{\"v\": \"e-Check Check\"}, {\"v\": 1291977}]}, {\"c\": [{\"v\": \"ACH Payment\"}, {\"v\": 1290448}]}, {\"c\": [{\"v\": \"Online Transfer\"}, {\"v\": 1287583}]}, {\"c\": [{\"v\": \"Wire Payment\"}, {\"v\": 859280}]}, {\"c\": [{\"v\": \"ATM PaymentPaper Check\"}, {\"v\": 858162}]}, {\"c\": [{\"v\": \"Payment\"}, {\"v\": 625110}]}, {\"c\": [{\"v\": \"ACH PaymentCash Payment\"}, {\"v\": 429694}]}, {\"c\": [{\"v\": \"Cash Payment\"}, {\"v\": 429398}]}, {\"c\": [{\"v\": \"ATM Payment\"}, {\"v\": 429245}]}, {\"c\": [{\"v\": \"Paper Check\"}, {\"v\": 429013}]}], \"cols\": [{\"type\": \"string\", \"id\": \"trans_type\", \"label\": \"trans_type\"}, {\"type\": \"number\", \"id\": \"num_trans\", \"label\": \"num_trans\"}]});\n",
       "        }\n",
       "      );\n",
       "    </script>\n",
       "  "
      ],
      "text/plain": [
       "<IPython.core.display.HTML object>"
      ]
     },
     "execution_count": 176,
     "metadata": {},
     "output_type": "execute_result"
    }
   ],
   "source": [
    "%%chart columns -d use_case_2.trans_by_type_yellow\n",
    "height: 500\n",
    "width: 1000\n",
    "legend: none"
   ]
  },
  {
   "cell_type": "code",
   "execution_count": 177,
   "metadata": {
    "collapsed": false
   },
   "outputs": [
    {
     "data": {
      "text/html": [
       "\n",
       "    <div class=\"bqtv\" id=\"31_145560336960\"><table><tr><th>trans_type</th><th>num_trans</th></tr><tr><td>ACH Payment</td><td>1126334</td></tr><tr><td>Wire Payment</td><td>753237</td></tr><tr><td>Cash Payment</td><td>376810</td></tr><tr><td>ATM Payment</td><td>376759</td></tr><tr><td>ACH PaymentCash Payment</td><td>376609</td></tr><tr><td>Paper Check</td><td>376196</td></tr><tr><td>Online Transfer</td><td>375450</td></tr><tr><td>e-Check Check</td><td>375418</td></tr><tr><td>Payment</td><td>353824</td></tr></table></div>\n",
       "    <br />(rows: 9, time: 2.4s,    82GB processed, job: job_amKNltHwjoKze4OtTs4E2MLMbgg)<br />\n",
       "    <script>\n",
       "      require(['extensions/charting', 'element!31_145560336960', 'style!/static/extensions/charting.css'],\n",
       "        function(charts, dom) {\n",
       "          charts.render(dom,\n",
       "            {\n",
       "              chartStyle:\"table\",\n",
       "              dataName:\"10\",\n",
       "              fields:\"trans_type,num_trans\",\n",
       "              totalRows:9,\n",
       "              rowsPerPage:25,\n",
       "            }, {}, {\"rows\": [{\"c\": [{\"v\": \"ACH Payment\"}, {\"v\": 1126334}]}, {\"c\": [{\"v\": \"Wire Payment\"}, {\"v\": 753237}]}, {\"c\": [{\"v\": \"Cash Payment\"}, {\"v\": 376810}]}, {\"c\": [{\"v\": \"ATM Payment\"}, {\"v\": 376759}]}, {\"c\": [{\"v\": \"ACH PaymentCash Payment\"}, {\"v\": 376609}]}, {\"c\": [{\"v\": \"Paper Check\"}, {\"v\": 376196}]}, {\"c\": [{\"v\": \"Online Transfer\"}, {\"v\": 375450}]}, {\"c\": [{\"v\": \"e-Check Check\"}, {\"v\": 375418}]}, {\"c\": [{\"v\": \"Payment\"}, {\"v\": 353824}]}], \"cols\": [{\"type\": \"string\", \"id\": \"trans_type\", \"label\": \"trans_type\"}, {\"type\": \"number\", \"id\": \"num_trans\", \"label\": \"num_trans\"}]});\n",
       "        }\n",
       "      );\n",
       "    </script>\n",
       "  "
      ],
      "text/plain": [
       "QueryResultsTable job_amKNltHwjoKze4OtTs4E2MLMbgg"
      ]
     },
     "execution_count": 177,
     "metadata": {},
     "output_type": "execute_result"
    }
   ],
   "source": [
    "%bigquery execute --query use_case_2.trans_by_type_red"
   ]
  },
  {
   "cell_type": "code",
   "execution_count": 178,
   "metadata": {
    "collapsed": false
   },
   "outputs": [
    {
     "data": {
      "text/html": [
       "\n",
       "    <div class=\"bqgc\" id=\"32_145560336975\">\n",
       "    </div>\n",
       "    <script>\n",
       "      require(['extensions/charting', 'element!32_145560336975', 'style!/static/extensions/charting.css'],\n",
       "        function(charts, dom) {\n",
       "          charts.render(dom, {chartStyle:'columns', dataName:'5', fields:'*'}, {\"width\": 1000, \"legend\": \"none\", \"height\": 500}, {\"rows\": [{\"c\": [{\"v\": \"ACH Payment\"}, {\"v\": 1126334}]}, {\"c\": [{\"v\": \"Wire Payment\"}, {\"v\": 753237}]}, {\"c\": [{\"v\": \"Cash Payment\"}, {\"v\": 376810}]}, {\"c\": [{\"v\": \"ATM Payment\"}, {\"v\": 376759}]}, {\"c\": [{\"v\": \"ACH PaymentCash Payment\"}, {\"v\": 376609}]}, {\"c\": [{\"v\": \"Paper Check\"}, {\"v\": 376196}]}, {\"c\": [{\"v\": \"Online Transfer\"}, {\"v\": 375450}]}, {\"c\": [{\"v\": \"e-Check Check\"}, {\"v\": 375418}]}, {\"c\": [{\"v\": \"Payment\"}, {\"v\": 353824}]}], \"cols\": [{\"type\": \"string\", \"id\": \"trans_type\", \"label\": \"trans_type\"}, {\"type\": \"number\", \"id\": \"num_trans\", \"label\": \"num_trans\"}]});\n",
       "        }\n",
       "      );\n",
       "    </script>\n",
       "  "
      ],
      "text/plain": [
       "<IPython.core.display.HTML object>"
      ]
     },
     "execution_count": 178,
     "metadata": {},
     "output_type": "execute_result"
    }
   ],
   "source": [
    "%%chart columns -d use_case_2.trans_by_type_red\n",
    "height: 500\n",
    "width: 1000\n",
    "legend: none"
   ]
  },
  {
   "cell_type": "code",
   "execution_count": 179,
   "metadata": {
    "collapsed": false
   },
   "outputs": [
    {
     "data": {
      "text/html": [
       "\n",
       "    <div class=\"bqtv\" id=\"33_145560337545\"><table><tr><th>use_case</th><th>trans_type</th><th>num_trans</th></tr><tr><td>Use Case 2 - Green</td><td>ACH Payment</td><td>6995617</td></tr><tr><td>Use Case 2 - Red</td><td>ACH Payment</td><td>1126334</td></tr><tr><td>Use Case 2 - Yellow</td><td>ACH Payment</td><td>1290448</td></tr><tr><td>Use Case 2 - Green</td><td>ACH PaymentCash Payment</td><td>2332970</td></tr><tr><td>Use Case 2 - Red</td><td>ACH PaymentCash Payment</td><td>376609</td></tr><tr><td>Use Case 2 - Yellow</td><td>ACH PaymentCash Payment</td><td>429694</td></tr><tr><td>Use Case 2 - Green</td><td>ATM Payment</td><td>2332031</td></tr><tr><td>Use Case 2 - Red</td><td>ATM Payment</td><td>376759</td></tr><tr><td>Use Case 2 - Yellow</td><td>ATM Payment</td><td>429245</td></tr><tr><td>Use Case 2 - Green</td><td>ATM PaymentPaper Check</td><td>13991200</td></tr><tr><td>Use Case 2 - Yellow</td><td>ATM PaymentPaper Check</td><td>858162</td></tr><tr><td>Use Case 2 - Green</td><td>Cash Payment</td><td>2330893</td></tr><tr><td>Use Case 2 - Red</td><td>Cash Payment</td><td>376810</td></tr><tr><td>Use Case 2 - Yellow</td><td>Cash Payment</td><td>429398</td></tr><tr><td>Use Case 2 - Green</td><td>Online Transfer</td><td>16329172</td></tr><tr><td>Use Case 2 - Red</td><td>Online Transfer</td><td>375450</td></tr><tr><td>Use Case 2 - Yellow</td><td>Online Transfer</td><td>1287583</td></tr><tr><td>Use Case 2 - Green</td><td>Paper Check</td><td>2332869</td></tr><tr><td>Use Case 2 - Red</td><td>Paper Check</td><td>376196</td></tr><tr><td>Use Case 2 - Yellow</td><td>Paper Check</td><td>429013</td></tr><tr><td>Use Case 2 - Green</td><td>Payment</td><td>5789629</td></tr><tr><td>Use Case 2 - Red</td><td>Payment</td><td>353824</td></tr><tr><td>Use Case 2 - Yellow</td><td>Payment</td><td>625110</td></tr><tr><td>Use Case 2 - Green</td><td>Wire Payment</td><td>4665774</td></tr><tr><td>Use Case 2 - Red</td><td>Wire Payment</td><td>753237</td></tr></table></div>\n",
       "    <br />(rows: 29, time: 4.3s,    82GB processed, job: job_nl2C4VujCPoP4FxzVzAUAaJ1R5A)<br />\n",
       "    <script>\n",
       "      require(['extensions/charting', 'element!33_145560337545', 'style!/static/extensions/charting.css'],\n",
       "        function(charts, dom) {\n",
       "          charts.render(dom,\n",
       "            {\n",
       "              chartStyle:\"paged_table\",\n",
       "              dataName:\"11\",\n",
       "              fields:\"use_case,trans_type,num_trans\",\n",
       "              totalRows:29,\n",
       "              rowsPerPage:25,\n",
       "            }, {}, {\"rows\": [{\"c\": [{\"v\": \"Use Case 2 - Green\"}, {\"v\": \"ACH Payment\"}, {\"v\": 6995617}]}, {\"c\": [{\"v\": \"Use Case 2 - Red\"}, {\"v\": \"ACH Payment\"}, {\"v\": 1126334}]}, {\"c\": [{\"v\": \"Use Case 2 - Yellow\"}, {\"v\": \"ACH Payment\"}, {\"v\": 1290448}]}, {\"c\": [{\"v\": \"Use Case 2 - Green\"}, {\"v\": \"ACH PaymentCash Payment\"}, {\"v\": 2332970}]}, {\"c\": [{\"v\": \"Use Case 2 - Red\"}, {\"v\": \"ACH PaymentCash Payment\"}, {\"v\": 376609}]}, {\"c\": [{\"v\": \"Use Case 2 - Yellow\"}, {\"v\": \"ACH PaymentCash Payment\"}, {\"v\": 429694}]}, {\"c\": [{\"v\": \"Use Case 2 - Green\"}, {\"v\": \"ATM Payment\"}, {\"v\": 2332031}]}, {\"c\": [{\"v\": \"Use Case 2 - Red\"}, {\"v\": \"ATM Payment\"}, {\"v\": 376759}]}, {\"c\": [{\"v\": \"Use Case 2 - Yellow\"}, {\"v\": \"ATM Payment\"}, {\"v\": 429245}]}, {\"c\": [{\"v\": \"Use Case 2 - Green\"}, {\"v\": \"ATM PaymentPaper Check\"}, {\"v\": 13991200}]}, {\"c\": [{\"v\": \"Use Case 2 - Yellow\"}, {\"v\": \"ATM PaymentPaper Check\"}, {\"v\": 858162}]}, {\"c\": [{\"v\": \"Use Case 2 - Green\"}, {\"v\": \"Cash Payment\"}, {\"v\": 2330893}]}, {\"c\": [{\"v\": \"Use Case 2 - Red\"}, {\"v\": \"Cash Payment\"}, {\"v\": 376810}]}, {\"c\": [{\"v\": \"Use Case 2 - Yellow\"}, {\"v\": \"Cash Payment\"}, {\"v\": 429398}]}, {\"c\": [{\"v\": \"Use Case 2 - Green\"}, {\"v\": \"Online Transfer\"}, {\"v\": 16329172}]}, {\"c\": [{\"v\": \"Use Case 2 - Red\"}, {\"v\": \"Online Transfer\"}, {\"v\": 375450}]}, {\"c\": [{\"v\": \"Use Case 2 - Yellow\"}, {\"v\": \"Online Transfer\"}, {\"v\": 1287583}]}, {\"c\": [{\"v\": \"Use Case 2 - Green\"}, {\"v\": \"Paper Check\"}, {\"v\": 2332869}]}, {\"c\": [{\"v\": \"Use Case 2 - Red\"}, {\"v\": \"Paper Check\"}, {\"v\": 376196}]}, {\"c\": [{\"v\": \"Use Case 2 - Yellow\"}, {\"v\": \"Paper Check\"}, {\"v\": 429013}]}, {\"c\": [{\"v\": \"Use Case 2 - Green\"}, {\"v\": \"Payment\"}, {\"v\": 5789629}]}, {\"c\": [{\"v\": \"Use Case 2 - Red\"}, {\"v\": \"Payment\"}, {\"v\": 353824}]}, {\"c\": [{\"v\": \"Use Case 2 - Yellow\"}, {\"v\": \"Payment\"}, {\"v\": 625110}]}, {\"c\": [{\"v\": \"Use Case 2 - Green\"}, {\"v\": \"Wire Payment\"}, {\"v\": 4665774}]}, {\"c\": [{\"v\": \"Use Case 2 - Red\"}, {\"v\": \"Wire Payment\"}, {\"v\": 753237}]}], \"cols\": [{\"type\": \"string\", \"id\": \"use_case\", \"label\": \"use_case\"}, {\"type\": \"string\", \"id\": \"trans_type\", \"label\": \"trans_type\"}, {\"type\": \"number\", \"id\": \"num_trans\", \"label\": \"num_trans\"}]});\n",
       "        }\n",
       "      );\n",
       "    </script>\n",
       "  "
      ],
      "text/plain": [
       "QueryResultsTable job_nl2C4VujCPoP4FxzVzAUAaJ1R5A"
      ]
     },
     "execution_count": 179,
     "metadata": {},
     "output_type": "execute_result"
    }
   ],
   "source": [
    "%bigquery execute --query use_case_2.trans_by_type"
   ]
  },
  {
   "cell_type": "code",
   "execution_count": 180,
   "metadata": {
    "collapsed": false
   },
   "outputs": [],
   "source": [
    "trans_by_type = bq.Query(use_case_2.trans_by_type).to_dataframe()"
   ]
  },
  {
   "cell_type": "code",
   "execution_count": 181,
   "metadata": {
    "collapsed": false
   },
   "outputs": [
    {
     "data": {
      "text/html": [
       "<div>\n",
       "<table border=\"1\" class=\"dataframe\">\n",
       "  <thead>\n",
       "    <tr>\n",
       "      <th></th>\n",
       "      <th colspan=\"3\" halign=\"left\">num_trans</th>\n",
       "    </tr>\n",
       "    <tr>\n",
       "      <th>use_case</th>\n",
       "      <th>Use Case 2 - Green</th>\n",
       "      <th>Use Case 2 - Red</th>\n",
       "      <th>Use Case 2 - Yellow</th>\n",
       "    </tr>\n",
       "    <tr>\n",
       "      <th>trans_type</th>\n",
       "      <th></th>\n",
       "      <th></th>\n",
       "      <th></th>\n",
       "    </tr>\n",
       "  </thead>\n",
       "  <tbody>\n",
       "    <tr>\n",
       "      <th>ACH Payment</th>\n",
       "      <td>6995617</td>\n",
       "      <td>1126334</td>\n",
       "      <td>1290448</td>\n",
       "    </tr>\n",
       "    <tr>\n",
       "      <th>ACH PaymentCash Payment</th>\n",
       "      <td>2332970</td>\n",
       "      <td>376609</td>\n",
       "      <td>429694</td>\n",
       "    </tr>\n",
       "    <tr>\n",
       "      <th>ATM Payment</th>\n",
       "      <td>2332031</td>\n",
       "      <td>376759</td>\n",
       "      <td>429245</td>\n",
       "    </tr>\n",
       "    <tr>\n",
       "      <th>ATM PaymentPaper Check</th>\n",
       "      <td>13991200</td>\n",
       "      <td>0</td>\n",
       "      <td>858162</td>\n",
       "    </tr>\n",
       "    <tr>\n",
       "      <th>Cash Payment</th>\n",
       "      <td>2330893</td>\n",
       "      <td>376810</td>\n",
       "      <td>429398</td>\n",
       "    </tr>\n",
       "    <tr>\n",
       "      <th>Online Transfer</th>\n",
       "      <td>16329172</td>\n",
       "      <td>375450</td>\n",
       "      <td>1287583</td>\n",
       "    </tr>\n",
       "    <tr>\n",
       "      <th>Paper Check</th>\n",
       "      <td>2332869</td>\n",
       "      <td>376196</td>\n",
       "      <td>429013</td>\n",
       "    </tr>\n",
       "    <tr>\n",
       "      <th>Payment</th>\n",
       "      <td>5789629</td>\n",
       "      <td>353824</td>\n",
       "      <td>625110</td>\n",
       "    </tr>\n",
       "    <tr>\n",
       "      <th>Wire Payment</th>\n",
       "      <td>4665774</td>\n",
       "      <td>753237</td>\n",
       "      <td>859280</td>\n",
       "    </tr>\n",
       "    <tr>\n",
       "      <th>e-Check Check</th>\n",
       "      <td>16321869</td>\n",
       "      <td>375418</td>\n",
       "      <td>1291977</td>\n",
       "    </tr>\n",
       "  </tbody>\n",
       "</table>\n",
       "</div>"
      ],
      "text/plain": [
       "                                 num_trans                   \\\n",
       "use_case                Use Case 2 - Green Use Case 2 - Red   \n",
       "trans_type                                                    \n",
       "ACH Payment                        6995617          1126334   \n",
       "ACH PaymentCash Payment            2332970           376609   \n",
       "ATM Payment                        2332031           376759   \n",
       "ATM PaymentPaper Check            13991200                0   \n",
       "Cash Payment                       2330893           376810   \n",
       "Online Transfer                   16329172           375450   \n",
       "Paper Check                        2332869           376196   \n",
       "Payment                            5789629           353824   \n",
       "Wire Payment                       4665774           753237   \n",
       "e-Check Check                     16321869           375418   \n",
       "\n",
       "                                             \n",
       "use_case                Use Case 2 - Yellow  \n",
       "trans_type                                   \n",
       "ACH Payment                         1290448  \n",
       "ACH PaymentCash Payment              429694  \n",
       "ATM Payment                          429245  \n",
       "ATM PaymentPaper Check               858162  \n",
       "Cash Payment                         429398  \n",
       "Online Transfer                     1287583  \n",
       "Paper Check                          429013  \n",
       "Payment                              625110  \n",
       "Wire Payment                         859280  \n",
       "e-Check Check                       1291977  "
      ]
     },
     "execution_count": 181,
     "metadata": {},
     "output_type": "execute_result"
    }
   ],
   "source": [
    "trans_by_type_pivoted = trans_by_type.pivot('trans_type', 'use_case')\n",
    "trans_by_type_pivoted = trans_by_type_pivoted.fillna(0)\n",
    "trans_by_type_pivoted"
   ]
  },
  {
   "cell_type": "code",
   "execution_count": 182,
   "metadata": {
    "collapsed": false
   },
   "outputs": [
    {
     "data": {
      "image/png": "[encoded data removed]",
      "text/plain": [
       "<matplotlib.figure.Figure at 0x7f220a436750>"
      ]
     },
     "metadata": {},
     "output_type": "display_data"
    }
   ],
   "source": [
    "_ = trans_by_type_pivoted.plot(kind='bar', figsize=(15,10))"
   ]
  },
  {
   "cell_type": "code",
   "execution_count": 183,
   "metadata": {
    "collapsed": false
   },
   "outputs": [
    {
     "data": {
      "text/plain": [
       "           use_case           \n",
       "num_trans  Use Case 2 - Green     73422024\n",
       "           Use Case 2 - Red        4490637\n",
       "           Use Case 2 - Yellow     7929910\n",
       "dtype: float64"
      ]
     },
     "execution_count": 183,
     "metadata": {},
     "output_type": "execute_result"
    }
   ],
   "source": [
    "'''trans_by_type_pivoted = trans_by_type_pivoted.divide(trans_by_type_pivoted.sum(axis=0), axis=0)\n",
    "trans_by_type_pivoted'''\n",
    "\n",
    "sum = trans_by_type_pivoted.sum(axis=0)\n",
    "sum"
   ]
  },
  {
   "cell_type": "code",
   "execution_count": 184,
   "metadata": {
    "collapsed": false
   },
   "outputs": [
    {
     "data": {
      "text/html": [
       "<div>\n",
       "<table border=\"1\" class=\"dataframe\">\n",
       "  <thead>\n",
       "    <tr>\n",
       "      <th></th>\n",
       "      <th colspan=\"3\" halign=\"left\">num_trans</th>\n",
       "    </tr>\n",
       "    <tr>\n",
       "      <th>use_case</th>\n",
       "      <th>Use Case 2 - Green</th>\n",
       "      <th>Use Case 2 - Red</th>\n",
       "      <th>Use Case 2 - Yellow</th>\n",
       "    </tr>\n",
       "    <tr>\n",
       "      <th>trans_type</th>\n",
       "      <th></th>\n",
       "      <th></th>\n",
       "      <th></th>\n",
       "    </tr>\n",
       "  </thead>\n",
       "  <tbody>\n",
       "    <tr>\n",
       "      <th>ACH Payment</th>\n",
       "      <td>9.527954</td>\n",
       "      <td>25.081831</td>\n",
       "      <td>16.273173</td>\n",
       "    </tr>\n",
       "    <tr>\n",
       "      <th>ACH PaymentCash Payment</th>\n",
       "      <td>3.177480</td>\n",
       "      <td>8.386538</td>\n",
       "      <td>5.418649</td>\n",
       "    </tr>\n",
       "    <tr>\n",
       "      <th>ATM Payment</th>\n",
       "      <td>3.176201</td>\n",
       "      <td>8.389879</td>\n",
       "      <td>5.412987</td>\n",
       "    </tr>\n",
       "    <tr>\n",
       "      <th>ATM PaymentPaper Check</th>\n",
       "      <td>19.055863</td>\n",
       "      <td>0.000000</td>\n",
       "      <td>10.821838</td>\n",
       "    </tr>\n",
       "    <tr>\n",
       "      <th>Cash Payment</th>\n",
       "      <td>3.174651</td>\n",
       "      <td>8.391014</td>\n",
       "      <td>5.414916</td>\n",
       "    </tr>\n",
       "    <tr>\n",
       "      <th>Online Transfer</th>\n",
       "      <td>22.240155</td>\n",
       "      <td>8.360729</td>\n",
       "      <td>16.237044</td>\n",
       "    </tr>\n",
       "    <tr>\n",
       "      <th>Paper Check</th>\n",
       "      <td>3.177342</td>\n",
       "      <td>8.377342</td>\n",
       "      <td>5.410061</td>\n",
       "    </tr>\n",
       "    <tr>\n",
       "      <th>Payment</th>\n",
       "      <td>7.885412</td>\n",
       "      <td>7.879149</td>\n",
       "      <td>7.882939</td>\n",
       "    </tr>\n",
       "    <tr>\n",
       "      <th>Wire Payment</th>\n",
       "      <td>6.354734</td>\n",
       "      <td>16.773500</td>\n",
       "      <td>10.835936</td>\n",
       "    </tr>\n",
       "    <tr>\n",
       "      <th>e-Check Check</th>\n",
       "      <td>22.230208</td>\n",
       "      <td>8.360017</td>\n",
       "      <td>16.292455</td>\n",
       "    </tr>\n",
       "  </tbody>\n",
       "</table>\n",
       "</div>"
      ],
      "text/plain": [
       "                                 num_trans                   \\\n",
       "use_case                Use Case 2 - Green Use Case 2 - Red   \n",
       "trans_type                                                    \n",
       "ACH Payment                       9.527954        25.081831   \n",
       "ACH PaymentCash Payment           3.177480         8.386538   \n",
       "ATM Payment                       3.176201         8.389879   \n",
       "ATM PaymentPaper Check           19.055863         0.000000   \n",
       "Cash Payment                      3.174651         8.391014   \n",
       "Online Transfer                  22.240155         8.360729   \n",
       "Paper Check                       3.177342         8.377342   \n",
       "Payment                           7.885412         7.879149   \n",
       "Wire Payment                      6.354734        16.773500   \n",
       "e-Check Check                    22.230208         8.360017   \n",
       "\n",
       "                                             \n",
       "use_case                Use Case 2 - Yellow  \n",
       "trans_type                                   \n",
       "ACH Payment                       16.273173  \n",
       "ACH PaymentCash Payment            5.418649  \n",
       "ATM Payment                        5.412987  \n",
       "ATM PaymentPaper Check            10.821838  \n",
       "Cash Payment                       5.414916  \n",
       "Online Transfer                   16.237044  \n",
       "Paper Check                        5.410061  \n",
       "Payment                            7.882939  \n",
       "Wire Payment                      10.835936  \n",
       "e-Check Check                     16.292455  "
      ]
     },
     "execution_count": 184,
     "metadata": {},
     "output_type": "execute_result"
    }
   ],
   "source": [
    "trans_by_type_pivoted = trans_by_type_pivoted.divide(sum, axis=1) * 100\n",
    "trans_by_type_pivoted"
   ]
  },
  {
   "cell_type": "code",
   "execution_count": 185,
   "metadata": {
    "collapsed": false
   },
   "outputs": [
    {
     "data": {
      "text/plain": [
       "           use_case           \n",
       "num_trans  Use Case 2 - Green     100\n",
       "           Use Case 2 - Red       100\n",
       "           Use Case 2 - Yellow    100\n",
       "dtype: float64"
      ]
     },
     "execution_count": 185,
     "metadata": {},
     "output_type": "execute_result"
    }
   ],
   "source": [
    "trans_by_type_pivoted.sum()"
   ]
  },
  {
   "cell_type": "code",
   "execution_count": 186,
   "metadata": {
    "collapsed": false
   },
   "outputs": [
    {
     "data": {
      "image/png": "[encoded data removed]",
      "text/plain": [
       "<matplotlib.figure.Figure at 0x7f220a651d50>"
      ]
     },
     "metadata": {},
     "output_type": "display_data"
    }
   ],
   "source": [
    "_ = trans_by_type_pivoted.plot(kind='bar', figsize=(15,10))"
   ]
  },
  {
   "cell_type": "code",
   "execution_count": 193,
   "metadata": {
    "collapsed": true
   },
   "outputs": [],
   "source": [
    "%%sql --module use_case_2\n",
    "\n",
    "DEFINE QUERY sample_trans\n",
    "SELECT\n",
    "  *\n",
    "FROM\n",
    "  [CreditCardv2.cc_trans_02052016]\n",
    "WHERE\n",
    "  ACCOUNTID = '116715244'\n",
    "ORDER BY\n",
    "  TRANSACTION_DATE,\n",
    "  POST_DATE\n",
    "\n",
    "DEFINE QUERY sample_account\n",
    "SELECT\n",
    "  *\n",
    "FROM\n",
    "  [CreditCardv2.Customer_Data_Jan26]\n",
    "WHERE\n",
    "  ACCOUNTID = '116715244'"
   ]
  },
  {
   "cell_type": "code",
   "execution_count": 191,
   "metadata": {
    "collapsed": false
   },
   "outputs": [
    {
     "data": {
      "text/html": [
       "\n",
       "    <div class=\"bqtv\" id=\"35_145560392354\"><table><tr><th>ROWNUM</th><th>ACCOUNTID</th><th>MERCHANT_NAME</th><th>MERCHANT_CATEGORY_CODE</th><th>MERCHANT_CATEGORY_DESC</th><th>MERCHANT_COUNTRY</th><th>POST_DATE</th><th>TRANSACTION_DATE</th><th>TRANSACTION_TYPE</th><th>CREDIT_DEBIT</th><th>CREDIT_LIMIT</th><th>AMOUNT</th><th>BALANCE</th><th>CREDITCARDNUMBER</th><th>CC_TYPE</th><th>USE_CASE</th><th>CUST_NAME</th><th>NUM_CCS</th><th>CUST_CITY</th><th>CUST_STATE</th><th>CUST_ZIP</th><th>CUST_COUNTRY</th><th>TRANS_DETAIL</th></tr><tr><td>0_2016-02-04 21:25:52</td><td>116715244</td><td>Power Digital Resource</td><td>3030</td><td>Airlines</td><td>US</td><td>2015-01-02</td><td>2015-01-01</td><td>Purchase</td><td>D</td><td>24000</td><td>19458</td><td>4542</td><td>95412358441345558</td><td>mastercard</td><td>Use Case 2 - Green</td><td>Gunner Quitzon</td><td>3</td><td>MIAMI</td><td>FL</td><td>33161</td><td>US</td><td>&nbsp;</td></tr><tr><td>1_2016-02-04 21:25:52</td><td>116715244</td><td>Pacific Frontier</td><td>3272</td><td>Airlines</td><td>US</td><td>2015-01-05</td><td>2015-01-04</td><td>Penalty</td><td>D</td><td>24000</td><td>3268</td><td>1274</td><td>95412358441345558</td><td>mastercard</td><td>Use Case 2 - Green</td><td>Gunner Quitzon</td><td>3</td><td>MIAMI</td><td>FL</td><td>33161</td><td>US</td><td>&nbsp;</td></tr><tr><td>2_2016-02-04 21:25:52</td><td>116715244</td><td>&nbsp;</td><td>1111</td><td>Customer Payment</td><td>US</td><td>2015-01-07</td><td>2015-01-06</td><td>ACH PaymentCash Payment</td><td>C</td><td>24000</td><td>11</td><td>1285</td><td>95412358441345558</td><td>mastercard</td><td>Use Case 2 - Green</td><td>Gunner Quitzon</td><td>3</td><td>MIAMI</td><td>FL</td><td>33161</td><td>US</td><td>&nbsp;</td></tr><tr><td>3_2016-02-04 21:25:52</td><td>116715244</td><td>&nbsp;</td><td>1111</td><td>Customer Payment</td><td>US</td><td>2015-01-10</td><td>2015-01-09</td><td>Cash Payment</td><td>C</td><td>24000</td><td>936</td><td>2221</td><td>95412358441345558</td><td>mastercard</td><td>Use Case 2 - Green</td><td>Gunner Quitzon</td><td>3</td><td>MIAMI</td><td>FL</td><td>33161</td><td>US</td><td>&nbsp;</td></tr><tr><td>4_2016-02-04 21:25:52</td><td>116715244</td><td>&nbsp;</td><td>1111</td><td>Customer Payment</td><td>US</td><td>2015-01-13</td><td>2015-01-12</td><td>ACH Payment</td><td>C</td><td>24000</td><td>191</td><td>2412</td><td>95412358441345558</td><td>mastercard</td><td>Use Case 2 - Green</td><td>Gunner Quitzon</td><td>3</td><td>MIAMI</td><td>FL</td><td>33161</td><td>US</td><td>&nbsp;</td></tr><tr><td>5_2016-02-04 21:25:52</td><td>116715244</td><td>&nbsp;</td><td>1111</td><td>Customer Payment</td><td>US</td><td>2015-01-16</td><td>2015-01-15</td><td>ATM PaymentPaper Check</td><td>C</td><td>24000</td><td>209</td><td>2621</td><td>95412358441345558</td><td>mastercard</td><td>Use Case 2 - Green</td><td>Gunner Quitzon</td><td>3</td><td>MIAMI</td><td>FL</td><td>33161</td><td>US</td><td>&nbsp;</td></tr><tr><td>6_2016-02-04 21:25:52</td><td>116715244</td><td>&nbsp;</td><td>1111</td><td>Customer Payment</td><td>US</td><td>2015-01-18</td><td>2015-01-17</td><td>ATM PaymentPaper Check</td><td>C</td><td>24000</td><td>2337</td><td>4958</td><td>95412358441345558</td><td>mastercard</td><td>Use Case 2 - Green</td><td>Gunner Quitzon</td><td>3</td><td>MIAMI</td><td>FL</td><td>33161</td><td>US</td><td>&nbsp;</td></tr><tr><td>7_2016-02-04 21:25:52</td><td>116715244</td><td>&nbsp;</td><td>1111</td><td>Customer Payment</td><td>US</td><td>2015-01-21</td><td>2015-01-20</td><td>ACH Payment</td><td>C</td><td>24000</td><td>3199</td><td>8157</td><td>95412358441345558</td><td>mastercard</td><td>Use Case 2 - Green</td><td>Gunner Quitzon</td><td>3</td><td>MIAMI</td><td>FL</td><td>33161</td><td>US</td><td>&nbsp;</td></tr><tr><td>8_2016-02-04 21:25:52</td><td>116715244</td><td>&nbsp;</td><td>1111</td><td>Customer Payment</td><td>US</td><td>2015-01-22</td><td>2015-01-21</td><td>Online Transfer</td><td>C</td><td>24000</td><td>6101</td><td>14258</td><td>95412358441345558</td><td>mastercard</td><td>Use Case 2 - Green</td><td>Gunner Quitzon</td><td>3</td><td>MIAMI</td><td>FL</td><td>33161</td><td>US</td><td>&nbsp;</td></tr><tr><td>9_2016-02-04 21:25:52</td><td>116715244</td><td>&nbsp;</td><td>1111</td><td>Customer Payment</td><td>US</td><td>2015-01-24</td><td>2015-01-23</td><td>ATM PaymentPaper Check</td><td>C</td><td>24000</td><td>10257</td><td>24515</td><td>95412358441345558</td><td>mastercard</td><td>Use Case 2 - Green</td><td>Gunner Quitzon</td><td>3</td><td>MIAMI</td><td>FL</td><td>33161</td><td>US</td><td>&nbsp;</td></tr><tr><td>10_2016-02-04 21:25:52</td><td>116715244</td><td>Solutions Signal</td><td>5192</td><td>Books Periodicals and Newspapers</td><td>US</td><td>2015-01-26</td><td>2015-01-25</td><td>Purchase</td><td>D</td><td>24000</td><td>21559</td><td>2956</td><td>95412358441345558</td><td>mastercard</td><td>Use Case 2 - Green</td><td>Gunner Quitzon</td><td>3</td><td>MIAMI</td><td>FL</td><td>33161</td><td>US</td><td>&nbsp;</td></tr><tr><td>11_2016-02-04 21:25:52</td><td>116715244</td><td>&nbsp;</td><td>1111</td><td>Customer Payment</td><td>US</td><td>2015-01-28</td><td>2015-01-27</td><td>ACH Payment</td><td>C</td><td>24000</td><td>1564</td><td>4520</td><td>95412358441345558</td><td>mastercard</td><td>Use Case 2 - Green</td><td>Gunner Quitzon</td><td>3</td><td>MIAMI</td><td>FL</td><td>33161</td><td>US</td><td>&nbsp;</td></tr><tr><td>12_2016-02-04 21:25:52</td><td>116715244</td><td>&nbsp;</td><td>1111</td><td>Customer Payment</td><td>US</td><td>2015-01-31</td><td>2015-01-30</td><td>Online Transfer</td><td>C</td><td>24000</td><td>2549</td><td>7069</td><td>95412358441345558</td><td>mastercard</td><td>Use Case 2 - Green</td><td>Gunner Quitzon</td><td>3</td><td>MIAMI</td><td>FL</td><td>33161</td><td>US</td><td>&nbsp;</td></tr><tr><td>13_2016-02-04 21:25:52</td><td>116715244</td><td>Digital Electronics Construction</td><td>3351</td><td>Car Rental</td><td>US</td><td>2015-02-03</td><td>2015-02-02</td><td>Penalty</td><td>D</td><td>24000</td><td>5070</td><td>1999</td><td>95412358441345558</td><td>mastercard</td><td>Use Case 2 - Green</td><td>Gunner Quitzon</td><td>3</td><td>MIAMI</td><td>FL</td><td>33161</td><td>US</td><td>&nbsp;</td></tr><tr><td>14_2016-02-04 21:25:52</td><td>116715244</td><td>&nbsp;</td><td>1111</td><td>Customer Payment</td><td>US</td><td>2015-02-04</td><td>2015-02-03</td><td>Wire Payment</td><td>C</td><td>24000</td><td>605</td><td>2604</td><td>95412358441345558</td><td>mastercard</td><td>Use Case 2 - Green</td><td>Gunner Quitzon</td><td>3</td><td>MIAMI</td><td>FL</td><td>33161</td><td>US</td><td>&nbsp;</td></tr><tr><td>15_2016-02-04 21:25:52</td><td>116715244</td><td>&nbsp;</td><td>1111</td><td>Customer Payment</td><td>US</td><td>2015-02-06</td><td>2015-02-05</td><td>ACH Payment</td><td>C</td><td>24000</td><td>296</td><td>2900</td><td>95412358441345558</td><td>mastercard</td><td>Use Case 2 - Green</td><td>Gunner Quitzon</td><td>3</td><td>MIAMI</td><td>FL</td><td>33161</td><td>US</td><td>&nbsp;</td></tr><tr><td>16_2016-02-04 21:25:52</td><td>116715244</td><td>&nbsp;</td><td>1111</td><td>Customer Payment</td><td>US</td><td>2015-02-08</td><td>2015-02-07</td><td>e-Check Check</td><td>C</td><td>24000</td><td>2558</td><td>5458</td><td>95412358441345558</td><td>mastercard</td><td>Use Case 2 - Green</td><td>Gunner Quitzon</td><td>3</td><td>MIAMI</td><td>FL</td><td>33161</td><td>US</td><td>&nbsp;</td></tr><tr><td>17_2016-02-04 21:25:52</td><td>116715244</td><td>Omega Net Solutions</td><td>3411</td><td>Car Rental</td><td>US</td><td>2015-02-11</td><td>2015-02-10</td><td>Fee</td><td>D</td><td>24000</td><td>1055</td><td>4403</td><td>95412358441345558</td><td>mastercard</td><td>Use Case 2 - Green</td><td>Gunner Quitzon</td><td>3</td><td>MIAMI</td><td>FL</td><td>33161</td><td>US</td><td>&nbsp;</td></tr><tr><td>18_2016-02-04 21:25:52</td><td>116715244</td><td>Telecom Power Software</td><td>3032</td><td>Airlines</td><td>US</td><td>2015-02-14</td><td>2015-02-13</td><td>Purchase</td><td>D</td><td>24000</td><td>21</td><td>4382</td><td>95412358441345558</td><td>mastercard</td><td>Use Case 2 - Green</td><td>Gunner Quitzon</td><td>3</td><td>MIAMI</td><td>FL</td><td>33161</td><td>US</td><td>&nbsp;</td></tr><tr><td>19_2016-02-04 21:25:52</td><td>116715244</td><td>&nbsp;</td><td>1111</td><td>Customer Payment</td><td>US</td><td>2015-02-17</td><td>2015-02-16</td><td>Online Transfer</td><td>C</td><td>24000</td><td>1776</td><td>6158</td><td>95412358441345558</td><td>mastercard</td><td>Use Case 2 - Green</td><td>Gunner Quitzon</td><td>3</td><td>MIAMI</td><td>FL</td><td>33161</td><td>US</td><td>&nbsp;</td></tr><tr><td>20_2016-02-04 21:25:52</td><td>116715244</td><td>Speed Graphics Star</td><td>3771</td><td>Hotels/Motels/Inns/Resorts</td><td>US</td><td>2015-02-20</td><td>2015-02-19</td><td>Purchase</td><td>D</td><td>24000</td><td>798</td><td>5360</td><td>95412358441345558</td><td>mastercard</td><td>Use Case 2 - Green</td><td>Gunner Quitzon</td><td>3</td><td>MIAMI</td><td>FL</td><td>33161</td><td>US</td><td>&nbsp;</td></tr><tr><td>21_2016-02-04 21:25:52</td><td>116715244</td><td>Interactive Construction</td><td>5399</td><td>Miscellaneous General Merchandise</td><td>US</td><td>2015-02-22</td><td>2015-02-21</td><td>Purchase</td><td>D</td><td>24000</td><td>3575</td><td>1785</td><td>95412358441345558</td><td>mastercard</td><td>Use Case 2 - Green</td><td>Gunner Quitzon</td><td>3</td><td>MIAMI</td><td>FL</td><td>33161</td><td>US</td><td>&nbsp;</td></tr><tr><td>22_2016-02-04 21:25:52</td><td>116715244</td><td>&nbsp;</td><td>1111</td><td>Customer Payment</td><td>US</td><td>2015-02-23</td><td>2015-02-22</td><td>Wire Payment</td><td>C</td><td>24000</td><td>1778</td><td>3563</td><td>95412358441345558</td><td>mastercard</td><td>Use Case 2 - Green</td><td>Gunner Quitzon</td><td>3</td><td>MIAMI</td><td>FL</td><td>33161</td><td>US</td><td>&nbsp;</td></tr><tr><td>23_2016-02-04 21:25:52</td><td>116715244</td><td>South Contract Industries</td><td>3542</td><td>Hotels/Motels/Inns/Resorts</td><td>US</td><td>2015-02-24</td><td>2015-02-23</td><td>Purchase</td><td>D</td><td>24000</td><td>3029</td><td>534</td><td>95412358441345558</td><td>mastercard</td><td>Use Case 2 - Green</td><td>Gunner Quitzon</td><td>3</td><td>MIAMI</td><td>FL</td><td>33161</td><td>US</td><td>&nbsp;</td></tr><tr><td>24_2016-02-04 21:25:52</td><td>116715244</td><td>&nbsp;</td><td>1111</td><td>Customer Payment</td><td>US</td><td>2015-02-25</td><td>2015-02-24</td><td>Paper Check</td><td>C</td><td>24000</td><td>156</td><td>690</td><td>95412358441345558</td><td>mastercard</td><td>Use Case 2 - Green</td><td>Gunner Quitzon</td><td>3</td><td>MIAMI</td><td>FL</td><td>33161</td><td>US</td><td>&nbsp;</td></tr></table></div>\n",
       "    <br />(rows: 141, time: 0.7s, cached, job: job_baSkVR3bTiY5yf4OMjBY-JaGWNs)<br />\n",
       "    <script>\n",
       "      require(['extensions/charting', 'element!35_145560392354', 'style!/static/extensions/charting.css'],\n",
       "        function(charts, dom) {\n",
       "          charts.render(dom,\n",
       "            {\n",
       "              chartStyle:\"paged_table\",\n",
       "              dataName:\"12\",\n",
       "              fields:\"ROWNUM,ACCOUNTID,MERCHANT_NAME,MERCHANT_CATEGORY_CODE,MERCHANT_CATEGORY_DESC,MERCHANT_COUNTRY,POST_DATE,TRANSACTION_DATE,TRANSACTION_TYPE,CREDIT_DEBIT,CREDIT_LIMIT,AMOUNT,BALANCE,CREDITCARDNUMBER,CC_TYPE,USE_CASE,CUST_NAME,NUM_CCS,CUST_CITY,CUST_STATE,CUST_ZIP,CUST_COUNTRY,TRANS_DETAIL\",\n",
       "              totalRows:141,\n",
       "              rowsPerPage:25,\n",
       "            }, {}, {\"rows\": [{\"c\": [{\"v\": \"0_2016-02-04 21:25:52\"}, {\"v\": \"116715244\"}, {\"v\": \"Power Digital Resource\"}, {\"v\": \"3030\"}, {\"v\": \"Airlines\"}, {\"v\": \"US\"}, {\"v\": \"2015-01-02\"}, {\"v\": \"2015-01-01\"}, {\"v\": \"Purchase\"}, {\"v\": \"D\"}, {\"v\": \"24000\"}, {\"v\": \"19458\"}, {\"v\": \"4542\"}, {\"v\": \"95412358441345558\"}, {\"v\": \"mastercard\"}, {\"v\": \"Use Case 2 - Green\"}, {\"v\": \"Gunner Quitzon\"}, {\"v\": \"3\"}, {\"v\": \"MIAMI\"}, {\"v\": \"FL\"}, {\"v\": \"33161\"}, {\"v\": \"US\"}, {\"v\": null}]}, {\"c\": [{\"v\": \"1_2016-02-04 21:25:52\"}, {\"v\": \"116715244\"}, {\"v\": \"Pacific Frontier\"}, {\"v\": \"3272\"}, {\"v\": \"Airlines\"}, {\"v\": \"US\"}, {\"v\": \"2015-01-05\"}, {\"v\": \"2015-01-04\"}, {\"v\": \"Penalty\"}, {\"v\": \"D\"}, {\"v\": \"24000\"}, {\"v\": \"3268\"}, {\"v\": \"1274\"}, {\"v\": \"95412358441345558\"}, {\"v\": \"mastercard\"}, {\"v\": \"Use Case 2 - Green\"}, {\"v\": \"Gunner Quitzon\"}, {\"v\": \"3\"}, {\"v\": \"MIAMI\"}, {\"v\": \"FL\"}, {\"v\": \"33161\"}, {\"v\": \"US\"}, {\"v\": null}]}, {\"c\": [{\"v\": \"2_2016-02-04 21:25:52\"}, {\"v\": \"116715244\"}, {\"v\": null}, {\"v\": \"1111\"}, {\"v\": \"Customer Payment\"}, {\"v\": \"US\"}, {\"v\": \"2015-01-07\"}, {\"v\": \"2015-01-06\"}, {\"v\": \"ACH PaymentCash Payment\"}, {\"v\": \"C\"}, {\"v\": \"24000\"}, {\"v\": \"11\"}, {\"v\": \"1285\"}, {\"v\": \"95412358441345558\"}, {\"v\": \"mastercard\"}, {\"v\": \"Use Case 2 - Green\"}, {\"v\": \"Gunner Quitzon\"}, {\"v\": \"3\"}, {\"v\": \"MIAMI\"}, {\"v\": \"FL\"}, {\"v\": \"33161\"}, {\"v\": \"US\"}, {\"v\": null}]}, {\"c\": [{\"v\": \"3_2016-02-04 21:25:52\"}, {\"v\": \"116715244\"}, {\"v\": null}, {\"v\": \"1111\"}, {\"v\": \"Customer Payment\"}, {\"v\": \"US\"}, {\"v\": \"2015-01-10\"}, {\"v\": \"2015-01-09\"}, {\"v\": \"Cash Payment\"}, {\"v\": \"C\"}, {\"v\": \"24000\"}, {\"v\": \"936\"}, {\"v\": \"2221\"}, {\"v\": \"95412358441345558\"}, {\"v\": \"mastercard\"}, {\"v\": \"Use Case 2 - Green\"}, {\"v\": \"Gunner Quitzon\"}, {\"v\": \"3\"}, {\"v\": \"MIAMI\"}, {\"v\": \"FL\"}, {\"v\": \"33161\"}, {\"v\": \"US\"}, {\"v\": null}]}, {\"c\": [{\"v\": \"4_2016-02-04 21:25:52\"}, {\"v\": \"116715244\"}, {\"v\": null}, {\"v\": \"1111\"}, {\"v\": \"Customer Payment\"}, {\"v\": \"US\"}, {\"v\": \"2015-01-13\"}, {\"v\": \"2015-01-12\"}, {\"v\": \"ACH Payment\"}, {\"v\": \"C\"}, {\"v\": \"24000\"}, {\"v\": \"191\"}, {\"v\": \"2412\"}, {\"v\": \"95412358441345558\"}, {\"v\": \"mastercard\"}, {\"v\": \"Use Case 2 - Green\"}, {\"v\": \"Gunner Quitzon\"}, {\"v\": \"3\"}, {\"v\": \"MIAMI\"}, {\"v\": \"FL\"}, {\"v\": \"33161\"}, {\"v\": \"US\"}, {\"v\": null}]}, {\"c\": [{\"v\": \"5_2016-02-04 21:25:52\"}, {\"v\": \"116715244\"}, {\"v\": null}, {\"v\": \"1111\"}, {\"v\": \"Customer Payment\"}, {\"v\": \"US\"}, {\"v\": \"2015-01-16\"}, {\"v\": \"2015-01-15\"}, {\"v\": \"ATM PaymentPaper Check\"}, {\"v\": \"C\"}, {\"v\": \"24000\"}, {\"v\": \"209\"}, {\"v\": \"2621\"}, {\"v\": \"95412358441345558\"}, {\"v\": \"mastercard\"}, {\"v\": \"Use Case 2 - Green\"}, {\"v\": \"Gunner Quitzon\"}, {\"v\": \"3\"}, {\"v\": \"MIAMI\"}, {\"v\": \"FL\"}, {\"v\": \"33161\"}, {\"v\": \"US\"}, {\"v\": null}]}, {\"c\": [{\"v\": \"6_2016-02-04 21:25:52\"}, {\"v\": \"116715244\"}, {\"v\": null}, {\"v\": \"1111\"}, {\"v\": \"Customer Payment\"}, {\"v\": \"US\"}, {\"v\": \"2015-01-18\"}, {\"v\": \"2015-01-17\"}, {\"v\": \"ATM PaymentPaper Check\"}, {\"v\": \"C\"}, {\"v\": \"24000\"}, {\"v\": \"2337\"}, {\"v\": \"4958\"}, {\"v\": \"95412358441345558\"}, {\"v\": \"mastercard\"}, {\"v\": \"Use Case 2 - Green\"}, {\"v\": \"Gunner Quitzon\"}, {\"v\": \"3\"}, {\"v\": \"MIAMI\"}, {\"v\": \"FL\"}, {\"v\": \"33161\"}, {\"v\": \"US\"}, {\"v\": null}]}, {\"c\": [{\"v\": \"7_2016-02-04 21:25:52\"}, {\"v\": \"116715244\"}, {\"v\": null}, {\"v\": \"1111\"}, {\"v\": \"Customer Payment\"}, {\"v\": \"US\"}, {\"v\": \"2015-01-21\"}, {\"v\": \"2015-01-20\"}, {\"v\": \"ACH Payment\"}, {\"v\": \"C\"}, {\"v\": \"24000\"}, {\"v\": \"3199\"}, {\"v\": \"8157\"}, {\"v\": \"95412358441345558\"}, {\"v\": \"mastercard\"}, {\"v\": \"Use Case 2 - Green\"}, {\"v\": \"Gunner Quitzon\"}, {\"v\": \"3\"}, {\"v\": \"MIAMI\"}, {\"v\": \"FL\"}, {\"v\": \"33161\"}, {\"v\": \"US\"}, {\"v\": null}]}, {\"c\": [{\"v\": \"8_2016-02-04 21:25:52\"}, {\"v\": \"116715244\"}, {\"v\": null}, {\"v\": \"1111\"}, {\"v\": \"Customer Payment\"}, {\"v\": \"US\"}, {\"v\": \"2015-01-22\"}, {\"v\": \"2015-01-21\"}, {\"v\": \"Online Transfer\"}, {\"v\": \"C\"}, {\"v\": \"24000\"}, {\"v\": \"6101\"}, {\"v\": \"14258\"}, {\"v\": \"95412358441345558\"}, {\"v\": \"mastercard\"}, {\"v\": \"Use Case 2 - Green\"}, {\"v\": \"Gunner Quitzon\"}, {\"v\": \"3\"}, {\"v\": \"MIAMI\"}, {\"v\": \"FL\"}, {\"v\": \"33161\"}, {\"v\": \"US\"}, {\"v\": null}]}, {\"c\": [{\"v\": \"9_2016-02-04 21:25:52\"}, {\"v\": \"116715244\"}, {\"v\": null}, {\"v\": \"1111\"}, {\"v\": \"Customer Payment\"}, {\"v\": \"US\"}, {\"v\": \"2015-01-24\"}, {\"v\": \"2015-01-23\"}, {\"v\": \"ATM PaymentPaper Check\"}, {\"v\": \"C\"}, {\"v\": \"24000\"}, {\"v\": \"10257\"}, {\"v\": \"24515\"}, {\"v\": \"95412358441345558\"}, {\"v\": \"mastercard\"}, {\"v\": \"Use Case 2 - Green\"}, {\"v\": \"Gunner Quitzon\"}, {\"v\": \"3\"}, {\"v\": \"MIAMI\"}, {\"v\": \"FL\"}, {\"v\": \"33161\"}, {\"v\": \"US\"}, {\"v\": null}]}, {\"c\": [{\"v\": \"10_2016-02-04 21:25:52\"}, {\"v\": \"116715244\"}, {\"v\": \"Solutions Signal\"}, {\"v\": \"5192\"}, {\"v\": \"Books Periodicals and Newspapers\"}, {\"v\": \"US\"}, {\"v\": \"2015-01-26\"}, {\"v\": \"2015-01-25\"}, {\"v\": \"Purchase\"}, {\"v\": \"D\"}, {\"v\": \"24000\"}, {\"v\": \"21559\"}, {\"v\": \"2956\"}, {\"v\": \"95412358441345558\"}, {\"v\": \"mastercard\"}, {\"v\": \"Use Case 2 - Green\"}, {\"v\": \"Gunner Quitzon\"}, {\"v\": \"3\"}, {\"v\": \"MIAMI\"}, {\"v\": \"FL\"}, {\"v\": \"33161\"}, {\"v\": \"US\"}, {\"v\": null}]}, {\"c\": [{\"v\": \"11_2016-02-04 21:25:52\"}, {\"v\": \"116715244\"}, {\"v\": null}, {\"v\": \"1111\"}, {\"v\": \"Customer Payment\"}, {\"v\": \"US\"}, {\"v\": \"2015-01-28\"}, {\"v\": \"2015-01-27\"}, {\"v\": \"ACH Payment\"}, {\"v\": \"C\"}, {\"v\": \"24000\"}, {\"v\": \"1564\"}, {\"v\": \"4520\"}, {\"v\": \"95412358441345558\"}, {\"v\": \"mastercard\"}, {\"v\": \"Use Case 2 - Green\"}, {\"v\": \"Gunner Quitzon\"}, {\"v\": \"3\"}, {\"v\": \"MIAMI\"}, {\"v\": \"FL\"}, {\"v\": \"33161\"}, {\"v\": \"US\"}, {\"v\": null}]}, {\"c\": [{\"v\": \"12_2016-02-04 21:25:52\"}, {\"v\": \"116715244\"}, {\"v\": null}, {\"v\": \"1111\"}, {\"v\": \"Customer Payment\"}, {\"v\": \"US\"}, {\"v\": \"2015-01-31\"}, {\"v\": \"2015-01-30\"}, {\"v\": \"Online Transfer\"}, {\"v\": \"C\"}, {\"v\": \"24000\"}, {\"v\": \"2549\"}, {\"v\": \"7069\"}, {\"v\": \"95412358441345558\"}, {\"v\": \"mastercard\"}, {\"v\": \"Use Case 2 - Green\"}, {\"v\": \"Gunner Quitzon\"}, {\"v\": \"3\"}, {\"v\": \"MIAMI\"}, {\"v\": \"FL\"}, {\"v\": \"33161\"}, {\"v\": \"US\"}, {\"v\": null}]}, {\"c\": [{\"v\": \"13_2016-02-04 21:25:52\"}, {\"v\": \"116715244\"}, {\"v\": \"Digital Electronics Construction\"}, {\"v\": \"3351\"}, {\"v\": \"Car Rental\"}, {\"v\": \"US\"}, {\"v\": \"2015-02-03\"}, {\"v\": \"2015-02-02\"}, {\"v\": \"Penalty\"}, {\"v\": \"D\"}, {\"v\": \"24000\"}, {\"v\": \"5070\"}, {\"v\": \"1999\"}, {\"v\": \"95412358441345558\"}, {\"v\": \"mastercard\"}, {\"v\": \"Use Case 2 - Green\"}, {\"v\": \"Gunner Quitzon\"}, {\"v\": \"3\"}, {\"v\": \"MIAMI\"}, {\"v\": \"FL\"}, {\"v\": \"33161\"}, {\"v\": \"US\"}, {\"v\": null}]}, {\"c\": [{\"v\": \"14_2016-02-04 21:25:52\"}, {\"v\": \"116715244\"}, {\"v\": null}, {\"v\": \"1111\"}, {\"v\": \"Customer Payment\"}, {\"v\": \"US\"}, {\"v\": \"2015-02-04\"}, {\"v\": \"2015-02-03\"}, {\"v\": \"Wire Payment\"}, {\"v\": \"C\"}, {\"v\": \"24000\"}, {\"v\": \"605\"}, {\"v\": \"2604\"}, {\"v\": \"95412358441345558\"}, {\"v\": \"mastercard\"}, {\"v\": \"Use Case 2 - Green\"}, {\"v\": \"Gunner Quitzon\"}, {\"v\": \"3\"}, {\"v\": \"MIAMI\"}, {\"v\": \"FL\"}, {\"v\": \"33161\"}, {\"v\": \"US\"}, {\"v\": null}]}, {\"c\": [{\"v\": \"15_2016-02-04 21:25:52\"}, {\"v\": \"116715244\"}, {\"v\": null}, {\"v\": \"1111\"}, {\"v\": \"Customer Payment\"}, {\"v\": \"US\"}, {\"v\": \"2015-02-06\"}, {\"v\": \"2015-02-05\"}, {\"v\": \"ACH Payment\"}, {\"v\": \"C\"}, {\"v\": \"24000\"}, {\"v\": \"296\"}, {\"v\": \"2900\"}, {\"v\": \"95412358441345558\"}, {\"v\": \"mastercard\"}, {\"v\": \"Use Case 2 - Green\"}, {\"v\": \"Gunner Quitzon\"}, {\"v\": \"3\"}, {\"v\": \"MIAMI\"}, {\"v\": \"FL\"}, {\"v\": \"33161\"}, {\"v\": \"US\"}, {\"v\": null}]}, {\"c\": [{\"v\": \"16_2016-02-04 21:25:52\"}, {\"v\": \"116715244\"}, {\"v\": null}, {\"v\": \"1111\"}, {\"v\": \"Customer Payment\"}, {\"v\": \"US\"}, {\"v\": \"2015-02-08\"}, {\"v\": \"2015-02-07\"}, {\"v\": \"e-Check Check\"}, {\"v\": \"C\"}, {\"v\": \"24000\"}, {\"v\": \"2558\"}, {\"v\": \"5458\"}, {\"v\": \"95412358441345558\"}, {\"v\": \"mastercard\"}, {\"v\": \"Use Case 2 - Green\"}, {\"v\": \"Gunner Quitzon\"}, {\"v\": \"3\"}, {\"v\": \"MIAMI\"}, {\"v\": \"FL\"}, {\"v\": \"33161\"}, {\"v\": \"US\"}, {\"v\": null}]}, {\"c\": [{\"v\": \"17_2016-02-04 21:25:52\"}, {\"v\": \"116715244\"}, {\"v\": \"Omega Net Solutions\"}, {\"v\": \"3411\"}, {\"v\": \"Car Rental\"}, {\"v\": \"US\"}, {\"v\": \"2015-02-11\"}, {\"v\": \"2015-02-10\"}, {\"v\": \"Fee\"}, {\"v\": \"D\"}, {\"v\": \"24000\"}, {\"v\": \"1055\"}, {\"v\": \"4403\"}, {\"v\": \"95412358441345558\"}, {\"v\": \"mastercard\"}, {\"v\": \"Use Case 2 - Green\"}, {\"v\": \"Gunner Quitzon\"}, {\"v\": \"3\"}, {\"v\": \"MIAMI\"}, {\"v\": \"FL\"}, {\"v\": \"33161\"}, {\"v\": \"US\"}, {\"v\": null}]}, {\"c\": [{\"v\": \"18_2016-02-04 21:25:52\"}, {\"v\": \"116715244\"}, {\"v\": \"Telecom Power Software\"}, {\"v\": \"3032\"}, {\"v\": \"Airlines\"}, {\"v\": \"US\"}, {\"v\": \"2015-02-14\"}, {\"v\": \"2015-02-13\"}, {\"v\": \"Purchase\"}, {\"v\": \"D\"}, {\"v\": \"24000\"}, {\"v\": \"21\"}, {\"v\": \"4382\"}, {\"v\": \"95412358441345558\"}, {\"v\": \"mastercard\"}, {\"v\": \"Use Case 2 - Green\"}, {\"v\": \"Gunner Quitzon\"}, {\"v\": \"3\"}, {\"v\": \"MIAMI\"}, {\"v\": \"FL\"}, {\"v\": \"33161\"}, {\"v\": \"US\"}, {\"v\": null}]}, {\"c\": [{\"v\": \"19_2016-02-04 21:25:52\"}, {\"v\": \"116715244\"}, {\"v\": null}, {\"v\": \"1111\"}, {\"v\": \"Customer Payment\"}, {\"v\": \"US\"}, {\"v\": \"2015-02-17\"}, {\"v\": \"2015-02-16\"}, {\"v\": \"Online Transfer\"}, {\"v\": \"C\"}, {\"v\": \"24000\"}, {\"v\": \"1776\"}, {\"v\": \"6158\"}, {\"v\": \"95412358441345558\"}, {\"v\": \"mastercard\"}, {\"v\": \"Use Case 2 - Green\"}, {\"v\": \"Gunner Quitzon\"}, {\"v\": \"3\"}, {\"v\": \"MIAMI\"}, {\"v\": \"FL\"}, {\"v\": \"33161\"}, {\"v\": \"US\"}, {\"v\": null}]}, {\"c\": [{\"v\": \"20_2016-02-04 21:25:52\"}, {\"v\": \"116715244\"}, {\"v\": \"Speed Graphics Star\"}, {\"v\": \"3771\"}, {\"v\": \"Hotels/Motels/Inns/Resorts\"}, {\"v\": \"US\"}, {\"v\": \"2015-02-20\"}, {\"v\": \"2015-02-19\"}, {\"v\": \"Purchase\"}, {\"v\": \"D\"}, {\"v\": \"24000\"}, {\"v\": \"798\"}, {\"v\": \"5360\"}, {\"v\": \"95412358441345558\"}, {\"v\": \"mastercard\"}, {\"v\": \"Use Case 2 - Green\"}, {\"v\": \"Gunner Quitzon\"}, {\"v\": \"3\"}, {\"v\": \"MIAMI\"}, {\"v\": \"FL\"}, {\"v\": \"33161\"}, {\"v\": \"US\"}, {\"v\": null}]}, {\"c\": [{\"v\": \"21_2016-02-04 21:25:52\"}, {\"v\": \"116715244\"}, {\"v\": \"Interactive Construction\"}, {\"v\": \"5399\"}, {\"v\": \"Miscellaneous General Merchandise\"}, {\"v\": \"US\"}, {\"v\": \"2015-02-22\"}, {\"v\": \"2015-02-21\"}, {\"v\": \"Purchase\"}, {\"v\": \"D\"}, {\"v\": \"24000\"}, {\"v\": \"3575\"}, {\"v\": \"1785\"}, {\"v\": \"95412358441345558\"}, {\"v\": \"mastercard\"}, {\"v\": \"Use Case 2 - Green\"}, {\"v\": \"Gunner Quitzon\"}, {\"v\": \"3\"}, {\"v\": \"MIAMI\"}, {\"v\": \"FL\"}, {\"v\": \"33161\"}, {\"v\": \"US\"}, {\"v\": null}]}, {\"c\": [{\"v\": \"22_2016-02-04 21:25:52\"}, {\"v\": \"116715244\"}, {\"v\": null}, {\"v\": \"1111\"}, {\"v\": \"Customer Payment\"}, {\"v\": \"US\"}, {\"v\": \"2015-02-23\"}, {\"v\": \"2015-02-22\"}, {\"v\": \"Wire Payment\"}, {\"v\": \"C\"}, {\"v\": \"24000\"}, {\"v\": \"1778\"}, {\"v\": \"3563\"}, {\"v\": \"95412358441345558\"}, {\"v\": \"mastercard\"}, {\"v\": \"Use Case 2 - Green\"}, {\"v\": \"Gunner Quitzon\"}, {\"v\": \"3\"}, {\"v\": \"MIAMI\"}, {\"v\": \"FL\"}, {\"v\": \"33161\"}, {\"v\": \"US\"}, {\"v\": null}]}, {\"c\": [{\"v\": \"23_2016-02-04 21:25:52\"}, {\"v\": \"116715244\"}, {\"v\": \"South Contract Industries\"}, {\"v\": \"3542\"}, {\"v\": \"Hotels/Motels/Inns/Resorts\"}, {\"v\": \"US\"}, {\"v\": \"2015-02-24\"}, {\"v\": \"2015-02-23\"}, {\"v\": \"Purchase\"}, {\"v\": \"D\"}, {\"v\": \"24000\"}, {\"v\": \"3029\"}, {\"v\": \"534\"}, {\"v\": \"95412358441345558\"}, {\"v\": \"mastercard\"}, {\"v\": \"Use Case 2 - Green\"}, {\"v\": \"Gunner Quitzon\"}, {\"v\": \"3\"}, {\"v\": \"MIAMI\"}, {\"v\": \"FL\"}, {\"v\": \"33161\"}, {\"v\": \"US\"}, {\"v\": null}]}, {\"c\": [{\"v\": \"24_2016-02-04 21:25:52\"}, {\"v\": \"116715244\"}, {\"v\": null}, {\"v\": \"1111\"}, {\"v\": \"Customer Payment\"}, {\"v\": \"US\"}, {\"v\": \"2015-02-25\"}, {\"v\": \"2015-02-24\"}, {\"v\": \"Paper Check\"}, {\"v\": \"C\"}, {\"v\": \"24000\"}, {\"v\": \"156\"}, {\"v\": \"690\"}, {\"v\": \"95412358441345558\"}, {\"v\": \"mastercard\"}, {\"v\": \"Use Case 2 - Green\"}, {\"v\": \"Gunner Quitzon\"}, {\"v\": \"3\"}, {\"v\": \"MIAMI\"}, {\"v\": \"FL\"}, {\"v\": \"33161\"}, {\"v\": \"US\"}, {\"v\": null}]}], \"cols\": [{\"type\": \"string\", \"id\": \"ROWNUM\", \"label\": \"ROWNUM\"}, {\"type\": \"string\", \"id\": \"ACCOUNTID\", \"label\": \"ACCOUNTID\"}, {\"type\": \"string\", \"id\": \"MERCHANT_NAME\", \"label\": \"MERCHANT_NAME\"}, {\"type\": \"string\", \"id\": \"MERCHANT_CATEGORY_CODE\", \"label\": \"MERCHANT_CATEGORY_CODE\"}, {\"type\": \"string\", \"id\": \"MERCHANT_CATEGORY_DESC\", \"label\": \"MERCHANT_CATEGORY_DESC\"}, {\"type\": \"string\", \"id\": \"MERCHANT_COUNTRY\", \"label\": \"MERCHANT_COUNTRY\"}, {\"type\": \"string\", \"id\": \"POST_DATE\", \"label\": \"POST_DATE\"}, {\"type\": \"string\", \"id\": \"TRANSACTION_DATE\", \"label\": \"TRANSACTION_DATE\"}, {\"type\": \"string\", \"id\": \"TRANSACTION_TYPE\", \"label\": \"TRANSACTION_TYPE\"}, {\"type\": \"string\", \"id\": \"CREDIT_DEBIT\", \"label\": \"CREDIT_DEBIT\"}, {\"type\": \"string\", \"id\": \"CREDIT_LIMIT\", \"label\": \"CREDIT_LIMIT\"}, {\"type\": \"string\", \"id\": \"AMOUNT\", \"label\": \"AMOUNT\"}, {\"type\": \"string\", \"id\": \"BALANCE\", \"label\": \"BALANCE\"}, {\"type\": \"string\", \"id\": \"CREDITCARDNUMBER\", \"label\": \"CREDITCARDNUMBER\"}, {\"type\": \"string\", \"id\": \"CC_TYPE\", \"label\": \"CC_TYPE\"}, {\"type\": \"string\", \"id\": \"USE_CASE\", \"label\": \"USE_CASE\"}, {\"type\": \"string\", \"id\": \"CUST_NAME\", \"label\": \"CUST_NAME\"}, {\"type\": \"string\", \"id\": \"NUM_CCS\", \"label\": \"NUM_CCS\"}, {\"type\": \"string\", \"id\": \"CUST_CITY\", \"label\": \"CUST_CITY\"}, {\"type\": \"string\", \"id\": \"CUST_STATE\", \"label\": \"CUST_STATE\"}, {\"type\": \"string\", \"id\": \"CUST_ZIP\", \"label\": \"CUST_ZIP\"}, {\"type\": \"string\", \"id\": \"CUST_COUNTRY\", \"label\": \"CUST_COUNTRY\"}, {\"type\": \"string\", \"id\": \"TRANS_DETAIL\", \"label\": \"TRANS_DETAIL\"}]});\n",
       "        }\n",
       "      );\n",
       "    </script>\n",
       "  "
      ],
      "text/plain": [
       "QueryResultsTable job_baSkVR3bTiY5yf4OMjBY-JaGWNs"
      ]
     },
     "execution_count": 191,
     "metadata": {},
     "output_type": "execute_result"
    }
   ],
   "source": [
    "%bigquery execute --query use_case_2.sample_trans"
   ]
  },
  {
   "cell_type": "code",
   "execution_count": 194,
   "metadata": {
    "collapsed": false
   },
   "outputs": [
    {
     "data": {
      "text/html": [
       "\n",
       "    <div class=\"bqtv\" id=\"36_145560395816\"><table><tr><th>ROWNUM</th><th>ACCOUNTID</th><th>ACCT_TYPE</th><th>NUM_CCS</th><th>NAME</th><th>M_NAME</th><th>SSN</th><th>AUTHORIZED_NAME2</th><th>M_NAME2</th><th>SSN2</th><th>AUTHORIZED_NAME3</th><th>M_NAME3</th><th>SSN3</th><th>AUTHORIZED_NAME4</th><th>M_NAME4</th><th>SSN4</th><th>CREDITCARDNUMBER</th><th>CREDITCARDTYPE</th><th>EMPLOYER</th><th>CUSTEMAIL</th><th>OCCUPATION</th><th>CITY</th><th>STATE</th><th>ZIP</th><th>COUNTRY</th><th>PREVIOUS_CITY</th><th>PREVIOUS_STATE</th><th>PREVIOUS_ZIP</th><th>PREVIOUS_COUNTRY</th><th>DOB</th><th>PEP</th><th>SAR</th><th>CLOSEDACCOUNT</th><th>RELATED_ACCT</th><th>RELATED_TYPE</th><th>PARTY_TYPE</th><th>PARTY_RELATION</th><th>PARTY_STARTDATE</th><th>PARTY_ENDDATE</th><th>LARGE_CASH_EXEMPT</th><th>DEMARKET_FLAG</th><th>DEMARKET_DATE</th><th>PROB_DEFAULT_RISKR</th><th>OFFICIAL_LANG_PREF</th><th>CONSENT_SHARING</th><th>PREFERRED_CHANNEL</th><th>PRIMARY_BRANCH_NO</th><th>DEPENDANTS_COUNT</th><th>SEG_MODEL_ID</th><th>SEG_MODEL_TYPE</th><th>SEG_MODEL_NAME</th><th>SEG_MODEL_GROUP</th><th>SEG_M_GRP_DESC</th><th>SEG_MODEL_SCORE</th><th>ARMS_MANUFACTURER</th><th>AUCTION</th><th>CASHINTENSIVE_BUSINESS</th><th>CASINO_GAMBLING</th><th>CHANNEL_ONBOARDING</th><th>CHANNEL_ONGOING_TRANSACTIONS</th><th>CLIENT_NET_WORTH</th><th>COMPLEX_HI_VEHICLE</th><th>DEALER_PRECIOUS_METAL</th><th>DIGITAL_PM_OPERATOR</th><th>EMBASSY_CONSULATE</th><th>EXCHANGE_CURRENCY</th><th>FOREIGN_FINANCIAL_INSTITUTION</th><th>FOREIGN_GOVERNMENT</th><th>FOREIGN_NONBANK_FINANCIAL_INSTITUTION</th><th>INTERNET_GAMBLING</th><th>MEDICAL_MARIJUANA_DISPENSARY</th><th>MONEY_SERVICE_BUSINESS</th><th>NAICS_CODE</th><th>NONREGULATED_FINANCIAL_INSTITUTION</th><th>NOT_PROFIT</th><th>PRIVATELY_ATM_OPERATOR</th><th>PRODUCTS</th><th>SALES_USED_VEHICLES</th><th>SERVICES</th><th>SIC_CODE</th><th>STOCK_MARKET_LISTING</th><th>THIRD_PARTY_PAYMENT_PROCESSOR</th><th>TRANSACTING_PROVIDER</th><th>HIGH_NET_WORTH</th><th>HIGH_RISK</th><th>RISK_RATING</th><th>USE_CASE_SCENARIO</th></tr><tr><td>17654305</td><td>116715244</td><td>C</td><td>3</td><td>Gunner Quitzon</td><td>Chantel</td><td>726434035</td><td>Giana Yundt</td><td>Geoffrey</td><td>822146970</td><td>Braiden Hagenes</td><td>Aron</td><td>545833759</td><td>&nbsp;</td><td>&nbsp;</td><td>&nbsp;</td><td>95412358441345558</td><td>mastercard</td><td>Star Universal Galaxy Mickens</td><td>L.Giles@velquis.eu</td><td>Medical Radiologist Therapeutic</td><td>MIAMI</td><td>FL</td><td>33161</td><td>US</td><td>MILWAUKEE</td><td>WI</td><td>53215</td><td>US</td><td>1977-12-16</td><td>No</td><td>No</td><td>No</td><td>&nbsp;</td><td>&nbsp;</td><td>Person</td><td>Non-Customer</td><td>2013-11-21 23:58:44.135047</td><td>2014-11-11 23:58:44.135058</td><td>No</td><td>No</td><td>&nbsp;</td><td>50</td><td>English</td><td>No</td><td>&nbsp;</td><td>33161</td><td>1</td><td>02</td><td>Profitability</td><td>CRS Risk Score</td><td>Group 1</td><td>Mid Risk Tier</td><td>300</td><td>&nbsp;</td><td>&nbsp;</td><td>&nbsp;</td><td>&nbsp;</td><td>Not Applicable</td><td>Mail</td><td>567635</td><td>&nbsp;</td><td>&nbsp;</td><td>&nbsp;</td><td>&nbsp;</td><td>&nbsp;</td><td>&nbsp;</td><td>&nbsp;</td><td>&nbsp;</td><td>&nbsp;</td><td>&nbsp;</td><td>&nbsp;</td><td>323111 Printing letterpress (except books grey goods)</td><td>&nbsp;</td><td>&nbsp;</td><td>&nbsp;</td><td>Credit Card</td><td>&nbsp;</td><td>Retirement Plans</td><td>6722 Management Investment Offices Open-End</td><td>Not Found</td><td>&nbsp;</td><td>&nbsp;</td><td>No</td><td>No</td><td>&nbsp;</td><td>9</td></tr></table></div>\n",
       "    <br />(rows: 1, time: 16.6s,    12GB processed, job: job_svIPcd2-v_Q0JGArJK2eN4Kh30s)<br />\n",
       "    <script>\n",
       "      require(['extensions/charting', 'element!36_145560395816', 'style!/static/extensions/charting.css'],\n",
       "        function(charts, dom) {\n",
       "          charts.render(dom,\n",
       "            {\n",
       "              chartStyle:\"table\",\n",
       "              dataName:\"13\",\n",
       "              fields:\"ROWNUM,ACCOUNTID,ACCT_TYPE,NUM_CCS,NAME,M_NAME,SSN,AUTHORIZED_NAME2,M_NAME2,SSN2,AUTHORIZED_NAME3,M_NAME3,SSN3,AUTHORIZED_NAME4,M_NAME4,SSN4,CREDITCARDNUMBER,CREDITCARDTYPE,EMPLOYER,CUSTEMAIL,OCCUPATION,CITY,STATE,ZIP,COUNTRY,PREVIOUS_CITY,PREVIOUS_STATE,PREVIOUS_ZIP,PREVIOUS_COUNTRY,DOB,PEP,SAR,CLOSEDACCOUNT,RELATED_ACCT,RELATED_TYPE,PARTY_TYPE,PARTY_RELATION,PARTY_STARTDATE,PARTY_ENDDATE,LARGE_CASH_EXEMPT,DEMARKET_FLAG,DEMARKET_DATE,PROB_DEFAULT_RISKR,OFFICIAL_LANG_PREF,CONSENT_SHARING,PREFERRED_CHANNEL,PRIMARY_BRANCH_NO,DEPENDANTS_COUNT,SEG_MODEL_ID,SEG_MODEL_TYPE,SEG_MODEL_NAME,SEG_MODEL_GROUP,SEG_M_GRP_DESC,SEG_MODEL_SCORE,ARMS_MANUFACTURER,AUCTION,CASHINTENSIVE_BUSINESS,CASINO_GAMBLING,CHANNEL_ONBOARDING,CHANNEL_ONGOING_TRANSACTIONS,CLIENT_NET_WORTH,COMPLEX_HI_VEHICLE,DEALER_PRECIOUS_METAL,DIGITAL_PM_OPERATOR,EMBASSY_CONSULATE,EXCHANGE_CURRENCY,FOREIGN_FINANCIAL_INSTITUTION,FOREIGN_GOVERNMENT,FOREIGN_NONBANK_FINANCIAL_INSTITUTION,INTERNET_GAMBLING,MEDICAL_MARIJUANA_DISPENSARY,MONEY_SERVICE_BUSINESS,NAICS_CODE,NONREGULATED_FINANCIAL_INSTITUTION,NOT_PROFIT,PRIVATELY_ATM_OPERATOR,PRODUCTS,SALES_USED_VEHICLES,SERVICES,SIC_CODE,STOCK_MARKET_LISTING,THIRD_PARTY_PAYMENT_PROCESSOR,TRANSACTING_PROVIDER,HIGH_NET_WORTH,HIGH_RISK,RISK_RATING,USE_CASE_SCENARIO\",\n",
       "              totalRows:1,\n",
       "              rowsPerPage:25,\n",
       "            }, {}, {\"rows\": [{\"c\": [{\"v\": \"17654305\"}, {\"v\": \"116715244\"}, {\"v\": \"C\"}, {\"v\": \"3\"}, {\"v\": \"Gunner Quitzon\"}, {\"v\": \"Chantel\"}, {\"v\": \"726434035\"}, {\"v\": \"Giana Yundt\"}, {\"v\": \"Geoffrey\"}, {\"v\": \"822146970\"}, {\"v\": \"Braiden Hagenes\"}, {\"v\": \"Aron\"}, {\"v\": \"545833759\"}, {\"v\": null}, {\"v\": null}, {\"v\": null}, {\"v\": \"95412358441345558\"}, {\"v\": \"mastercard\"}, {\"v\": \"Star Universal Galaxy Mickens\"}, {\"v\": \"L.Giles@velquis.eu\"}, {\"v\": \"Medical Radiologist Therapeutic\"}, {\"v\": \"MIAMI\"}, {\"v\": \"FL\"}, {\"v\": \"33161\"}, {\"v\": \"US\"}, {\"v\": \"MILWAUKEE\"}, {\"v\": \"WI\"}, {\"v\": \"53215\"}, {\"v\": \"US\"}, {\"v\": \"1977-12-16\"}, {\"v\": \"No\"}, {\"v\": \"No\"}, {\"v\": \"No\"}, {\"v\": null}, {\"v\": null}, {\"v\": \"Person\"}, {\"v\": \"Non-Customer\"}, {\"v\": \"2013-11-21 23:58:44.135047\"}, {\"v\": \"2014-11-11 23:58:44.135058\"}, {\"v\": \"No\"}, {\"v\": \"No\"}, {\"v\": null}, {\"v\": \"50\"}, {\"v\": \"English\"}, {\"v\": \"No\"}, {\"v\": null}, {\"v\": \"33161\"}, {\"v\": \"1\"}, {\"v\": \"02\"}, {\"v\": \"Profitability\"}, {\"v\": \"CRS Risk Score\"}, {\"v\": \"Group 1\"}, {\"v\": \"Mid Risk Tier\"}, {\"v\": \"300\"}, {\"v\": null}, {\"v\": null}, {\"v\": null}, {\"v\": null}, {\"v\": \"Not Applicable\"}, {\"v\": \"Mail\"}, {\"v\": \"567635\"}, {\"v\": null}, {\"v\": null}, {\"v\": null}, {\"v\": null}, {\"v\": null}, {\"v\": null}, {\"v\": null}, {\"v\": null}, {\"v\": null}, {\"v\": null}, {\"v\": null}, {\"v\": \"323111 Printing letterpress (except books grey goods)\"}, {\"v\": null}, {\"v\": null}, {\"v\": null}, {\"v\": \"Credit Card\"}, {\"v\": null}, {\"v\": \"Retirement Plans\"}, {\"v\": \"6722 Management Investment Offices Open-End\"}, {\"v\": \"Not Found\"}, {\"v\": null}, {\"v\": null}, {\"v\": \"No\"}, {\"v\": \"No\"}, {\"v\": null}, {\"v\": \"9\"}]}], \"cols\": [{\"type\": \"string\", \"id\": \"ROWNUM\", \"label\": \"ROWNUM\"}, {\"type\": \"string\", \"id\": \"ACCOUNTID\", \"label\": \"ACCOUNTID\"}, {\"type\": \"string\", \"id\": \"ACCT_TYPE\", \"label\": \"ACCT_TYPE\"}, {\"type\": \"string\", \"id\": \"NUM_CCS\", \"label\": \"NUM_CCS\"}, {\"type\": \"string\", \"id\": \"NAME\", \"label\": \"NAME\"}, {\"type\": \"string\", \"id\": \"M_NAME\", \"label\": \"M_NAME\"}, {\"type\": \"string\", \"id\": \"SSN\", \"label\": \"SSN\"}, {\"type\": \"string\", \"id\": \"AUTHORIZED_NAME2\", \"label\": \"AUTHORIZED_NAME2\"}, {\"type\": \"string\", \"id\": \"M_NAME2\", \"label\": \"M_NAME2\"}, {\"type\": \"string\", \"id\": \"SSN2\", \"label\": \"SSN2\"}, {\"type\": \"string\", \"id\": \"AUTHORIZED_NAME3\", \"label\": \"AUTHORIZED_NAME3\"}, {\"type\": \"string\", \"id\": \"M_NAME3\", \"label\": \"M_NAME3\"}, {\"type\": \"string\", \"id\": \"SSN3\", \"label\": \"SSN3\"}, {\"type\": \"string\", \"id\": \"AUTHORIZED_NAME4\", \"label\": \"AUTHORIZED_NAME4\"}, {\"type\": \"string\", \"id\": \"M_NAME4\", \"label\": \"M_NAME4\"}, {\"type\": \"string\", \"id\": \"SSN4\", \"label\": \"SSN4\"}, {\"type\": \"string\", \"id\": \"CREDITCARDNUMBER\", \"label\": \"CREDITCARDNUMBER\"}, {\"type\": \"string\", \"id\": \"CREDITCARDTYPE\", \"label\": \"CREDITCARDTYPE\"}, {\"type\": \"string\", \"id\": \"EMPLOYER\", \"label\": \"EMPLOYER\"}, {\"type\": \"string\", \"id\": \"CUSTEMAIL\", \"label\": \"CUSTEMAIL\"}, {\"type\": \"string\", \"id\": \"OCCUPATION\", \"label\": \"OCCUPATION\"}, {\"type\": \"string\", \"id\": \"CITY\", \"label\": \"CITY\"}, {\"type\": \"string\", \"id\": \"STATE\", \"label\": \"STATE\"}, {\"type\": \"string\", \"id\": \"ZIP\", \"label\": \"ZIP\"}, {\"type\": \"string\", \"id\": \"COUNTRY\", \"label\": \"COUNTRY\"}, {\"type\": \"string\", \"id\": \"PREVIOUS_CITY\", \"label\": \"PREVIOUS_CITY\"}, {\"type\": \"string\", \"id\": \"PREVIOUS_STATE\", \"label\": \"PREVIOUS_STATE\"}, {\"type\": \"string\", \"id\": \"PREVIOUS_ZIP\", \"label\": \"PREVIOUS_ZIP\"}, {\"type\": \"string\", \"id\": \"PREVIOUS_COUNTRY\", \"label\": \"PREVIOUS_COUNTRY\"}, {\"type\": \"string\", \"id\": \"DOB\", \"label\": \"DOB\"}, {\"type\": \"string\", \"id\": \"PEP\", \"label\": \"PEP\"}, {\"type\": \"string\", \"id\": \"SAR\", \"label\": \"SAR\"}, {\"type\": \"string\", \"id\": \"CLOSEDACCOUNT\", \"label\": \"CLOSEDACCOUNT\"}, {\"type\": \"string\", \"id\": \"RELATED_ACCT\", \"label\": \"RELATED_ACCT\"}, {\"type\": \"string\", \"id\": \"RELATED_TYPE\", \"label\": \"RELATED_TYPE\"}, {\"type\": \"string\", \"id\": \"PARTY_TYPE\", \"label\": \"PARTY_TYPE\"}, {\"type\": \"string\", \"id\": \"PARTY_RELATION\", \"label\": \"PARTY_RELATION\"}, {\"type\": \"string\", \"id\": \"PARTY_STARTDATE\", \"label\": \"PARTY_STARTDATE\"}, {\"type\": \"string\", \"id\": \"PARTY_ENDDATE\", \"label\": \"PARTY_ENDDATE\"}, {\"type\": \"string\", \"id\": \"LARGE_CASH_EXEMPT\", \"label\": \"LARGE_CASH_EXEMPT\"}, {\"type\": \"string\", \"id\": \"DEMARKET_FLAG\", \"label\": \"DEMARKET_FLAG\"}, {\"type\": \"string\", \"id\": \"DEMARKET_DATE\", \"label\": \"DEMARKET_DATE\"}, {\"type\": \"string\", \"id\": \"PROB_DEFAULT_RISKR\", \"label\": \"PROB_DEFAULT_RISKR\"}, {\"type\": \"string\", \"id\": \"OFFICIAL_LANG_PREF\", \"label\": \"OFFICIAL_LANG_PREF\"}, {\"type\": \"string\", \"id\": \"CONSENT_SHARING\", \"label\": \"CONSENT_SHARING\"}, {\"type\": \"string\", \"id\": \"PREFERRED_CHANNEL\", \"label\": \"PREFERRED_CHANNEL\"}, {\"type\": \"string\", \"id\": \"PRIMARY_BRANCH_NO\", \"label\": \"PRIMARY_BRANCH_NO\"}, {\"type\": \"string\", \"id\": \"DEPENDANTS_COUNT\", \"label\": \"DEPENDANTS_COUNT\"}, {\"type\": \"string\", \"id\": \"SEG_MODEL_ID\", \"label\": \"SEG_MODEL_ID\"}, {\"type\": \"string\", \"id\": \"SEG_MODEL_TYPE\", \"label\": \"SEG_MODEL_TYPE\"}, {\"type\": \"string\", \"id\": \"SEG_MODEL_NAME\", \"label\": \"SEG_MODEL_NAME\"}, {\"type\": \"string\", \"id\": \"SEG_MODEL_GROUP\", \"label\": \"SEG_MODEL_GROUP\"}, {\"type\": \"string\", \"id\": \"SEG_M_GRP_DESC\", \"label\": \"SEG_M_GRP_DESC\"}, {\"type\": \"string\", \"id\": \"SEG_MODEL_SCORE\", \"label\": \"SEG_MODEL_SCORE\"}, {\"type\": \"string\", \"id\": \"ARMS_MANUFACTURER\", \"label\": \"ARMS_MANUFACTURER\"}, {\"type\": \"string\", \"id\": \"AUCTION\", \"label\": \"AUCTION\"}, {\"type\": \"string\", \"id\": \"CASHINTENSIVE_BUSINESS\", \"label\": \"CASHINTENSIVE_BUSINESS\"}, {\"type\": \"string\", \"id\": \"CASINO_GAMBLING\", \"label\": \"CASINO_GAMBLING\"}, {\"type\": \"string\", \"id\": \"CHANNEL_ONBOARDING\", \"label\": \"CHANNEL_ONBOARDING\"}, {\"type\": \"string\", \"id\": \"CHANNEL_ONGOING_TRANSACTIONS\", \"label\": \"CHANNEL_ONGOING_TRANSACTIONS\"}, {\"type\": \"string\", \"id\": \"CLIENT_NET_WORTH\", \"label\": \"CLIENT_NET_WORTH\"}, {\"type\": \"string\", \"id\": \"COMPLEX_HI_VEHICLE\", \"label\": \"COMPLEX_HI_VEHICLE\"}, {\"type\": \"string\", \"id\": \"DEALER_PRECIOUS_METAL\", \"label\": \"DEALER_PRECIOUS_METAL\"}, {\"type\": \"string\", \"id\": \"DIGITAL_PM_OPERATOR\", \"label\": \"DIGITAL_PM_OPERATOR\"}, {\"type\": \"string\", \"id\": \"EMBASSY_CONSULATE\", \"label\": \"EMBASSY_CONSULATE\"}, {\"type\": \"string\", \"id\": \"EXCHANGE_CURRENCY\", \"label\": \"EXCHANGE_CURRENCY\"}, {\"type\": \"string\", \"id\": \"FOREIGN_FINANCIAL_INSTITUTION\", \"label\": \"FOREIGN_FINANCIAL_INSTITUTION\"}, {\"type\": \"string\", \"id\": \"FOREIGN_GOVERNMENT\", \"label\": \"FOREIGN_GOVERNMENT\"}, {\"type\": \"string\", \"id\": \"FOREIGN_NONBANK_FINANCIAL_INSTITUTION\", \"label\": \"FOREIGN_NONBANK_FINANCIAL_INSTITUTION\"}, {\"type\": \"string\", \"id\": \"INTERNET_GAMBLING\", \"label\": \"INTERNET_GAMBLING\"}, {\"type\": \"string\", \"id\": \"MEDICAL_MARIJUANA_DISPENSARY\", \"label\": \"MEDICAL_MARIJUANA_DISPENSARY\"}, {\"type\": \"string\", \"id\": \"MONEY_SERVICE_BUSINESS\", \"label\": \"MONEY_SERVICE_BUSINESS\"}, {\"type\": \"string\", \"id\": \"NAICS_CODE\", \"label\": \"NAICS_CODE\"}, {\"type\": \"string\", \"id\": \"NONREGULATED_FINANCIAL_INSTITUTION\", \"label\": \"NONREGULATED_FINANCIAL_INSTITUTION\"}, {\"type\": \"string\", \"id\": \"NOT_PROFIT\", \"label\": \"NOT_PROFIT\"}, {\"type\": \"string\", \"id\": \"PRIVATELY_ATM_OPERATOR\", \"label\": \"PRIVATELY_ATM_OPERATOR\"}, {\"type\": \"string\", \"id\": \"PRODUCTS\", \"label\": \"PRODUCTS\"}, {\"type\": \"string\", \"id\": \"SALES_USED_VEHICLES\", \"label\": \"SALES_USED_VEHICLES\"}, {\"type\": \"string\", \"id\": \"SERVICES\", \"label\": \"SERVICES\"}, {\"type\": \"string\", \"id\": \"SIC_CODE\", \"label\": \"SIC_CODE\"}, {\"type\": \"string\", \"id\": \"STOCK_MARKET_LISTING\", \"label\": \"STOCK_MARKET_LISTING\"}, {\"type\": \"string\", \"id\": \"THIRD_PARTY_PAYMENT_PROCESSOR\", \"label\": \"THIRD_PARTY_PAYMENT_PROCESSOR\"}, {\"type\": \"string\", \"id\": \"TRANSACTING_PROVIDER\", \"label\": \"TRANSACTING_PROVIDER\"}, {\"type\": \"string\", \"id\": \"HIGH_NET_WORTH\", \"label\": \"HIGH_NET_WORTH\"}, {\"type\": \"string\", \"id\": \"HIGH_RISK\", \"label\": \"HIGH_RISK\"}, {\"type\": \"string\", \"id\": \"RISK_RATING\", \"label\": \"RISK_RATING\"}, {\"type\": \"string\", \"id\": \"USE_CASE_SCENARIO\", \"label\": \"USE_CASE_SCENARIO\"}]});\n",
       "        }\n",
       "      );\n",
       "    </script>\n",
       "  "
      ],
      "text/plain": [
       "QueryResultsTable job_svIPcd2-v_Q0JGArJK2eN4Kh30s"
      ]
     },
     "execution_count": 194,
     "metadata": {},
     "output_type": "execute_result"
    }
   ],
   "source": [
    "%bigquery execute --query use_case_2.sample_account"
   ]
  },
  {
   "cell_type": "markdown",
   "metadata": {},
   "source": [
    "So, plenty of signal seemingly..."
   ]
  },
  {
   "cell_type": "markdown",
   "metadata": {},
   "source": [
    "## What would our model look like..?"
   ]
  }
 ],
 "metadata": {
  "kernelspec": {
   "display_name": "Python 2",
   "language": "python",
   "name": "python2"
  },
  "language_info": {
   "codemirror_mode": {
    "name": "ipython",
    "version": 2
   },
   "file_extension": ".py",
   "mimetype": "text/x-python",
   "name": "python",
   "nbconvert_exporter": "python",
   "pygments_lexer": "ipython2",
   "version": "2.7.9"
  }
 },
 "nbformat": 4,
 "nbformat_minor": 0
}
