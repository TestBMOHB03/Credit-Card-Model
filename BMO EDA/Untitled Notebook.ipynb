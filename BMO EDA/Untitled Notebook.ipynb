{
 "cells": [
  {
   "cell_type": "code",
   "execution_count": 1,
   "metadata": {
    "collapsed": false
   },
   "outputs": [
    {
     "name": "stdout",
     "output_type": "stream",
     "text": [
      "Requirement already satisfied (use --upgrade to upgrade): skflow in /usr/local/lib/python2.7/dist-packages\n",
      "Requirement already satisfied (use --upgrade to upgrade): sklearn in /usr/local/lib/python2.7/dist-packages (from skflow)\n",
      "Requirement already satisfied (use --upgrade to upgrade): scipy in /usr/local/lib/python2.7/dist-packages (from skflow)\n",
      "Requirement already satisfied (use --upgrade to upgrade): numpy in /usr/local/lib/python2.7/dist-packages (from skflow)\n",
      "Requirement already satisfied (use --upgrade to upgrade): scikit-learn in /usr/local/lib/python2.7/dist-packages (from sklearn->skflow)\n",
      "Cleaning up...\n"
     ]
    }
   ],
   "source": [
    "%%bash\n",
    "pip install skflow"
   ]
  },
  {
   "cell_type": "code",
   "execution_count": 2,
   "metadata": {
    "collapsed": true
   },
   "outputs": [],
   "source": [
    "import pandas as pd\n",
    "import matplotlib.pyplot as plt\n",
    "import numpy as np\n",
    "import gcp\n",
    "import gcp.bigquery as bq\n",
    "import skflow\n",
    "import tensorflow as tf\n",
    "from sklearn.metrics import accuracy_score\n",
    "from sklearn import preprocessing\n",
    "from sklearn.cross_validation import train_test_split\n",
    "from sklearn.ensemble import RandomForestClassifier\n",
    "from sklearn import metrics"
   ]
  },
  {
   "cell_type": "code",
   "execution_count": 3,
   "metadata": {
    "collapsed": true
   },
   "outputs": [],
   "source": [
    "pd.options.display.max_columns = 999\n",
    "pd.options.display.max_rows = 999"
   ]
  },
  {
   "cell_type": "code",
   "execution_count": 4,
   "metadata": {
    "collapsed": true
   },
   "outputs": [],
   "source": [
    "%%sql --module use_case_2\n",
    "\n",
    "DEFINE QUERY trans_by_type\n",
    "SELECT\n",
    "  USE_CASE as use_case,\n",
    "  TRANSACTION_TYPE AS trans_type,\n",
    "  COUNT(*) AS num_trans\n",
    "FROM\n",
    "  [CreditCardv2.cc_trans_02052016]\n",
    "WHERE\n",
    "  REGEXP_MATCH(USE_CASE, 'Use Case 2')\n",
    "  AND CREDIT_DEBIT == 'C'\n",
    "GROUP BY\n",
    "  trans_type, use_case\n",
    "ORDER BY\n",
    "  trans_type, use_case"
   ]
  },
  {
   "cell_type": "code",
   "execution_count": 5,
   "metadata": {
    "collapsed": true
   },
   "outputs": [],
   "source": [
    "trans_by_type = bq.Query(use_case_2.trans_by_type).to_dataframe()"
   ]
  },
  {
   "cell_type": "code",
   "execution_count": 6,
   "metadata": {
    "collapsed": false
   },
   "outputs": [
    {
     "data": {
      "text/html": [
       "<div>\n",
       "<table border=\"1\" class=\"dataframe\">\n",
       "  <thead>\n",
       "    <tr>\n",
       "      <th></th>\n",
       "      <th colspan=\"3\" halign=\"left\">num_trans</th>\n",
       "    </tr>\n",
       "    <tr>\n",
       "      <th>use_case</th>\n",
       "      <th>Use Case 2 - Green</th>\n",
       "      <th>Use Case 2 - Red</th>\n",
       "      <th>Use Case 2 - Yellow</th>\n",
       "    </tr>\n",
       "    <tr>\n",
       "      <th>trans_type</th>\n",
       "      <th></th>\n",
       "      <th></th>\n",
       "      <th></th>\n",
       "    </tr>\n",
       "  </thead>\n",
       "  <tbody>\n",
       "    <tr>\n",
       "      <th>ACH Payment</th>\n",
       "      <td>6995617.0</td>\n",
       "      <td>1126334.0</td>\n",
       "      <td>1290448.0</td>\n",
       "    </tr>\n",
       "    <tr>\n",
       "      <th>ACH PaymentCash Payment</th>\n",
       "      <td>2332970.0</td>\n",
       "      <td>376609.0</td>\n",
       "      <td>429694.0</td>\n",
       "    </tr>\n",
       "    <tr>\n",
       "      <th>ATM Payment</th>\n",
       "      <td>2332031.0</td>\n",
       "      <td>376759.0</td>\n",
       "      <td>429245.0</td>\n",
       "    </tr>\n",
       "    <tr>\n",
       "      <th>ATM PaymentPaper Check</th>\n",
       "      <td>13991200.0</td>\n",
       "      <td>0.0</td>\n",
       "      <td>858162.0</td>\n",
       "    </tr>\n",
       "    <tr>\n",
       "      <th>Cash Payment</th>\n",
       "      <td>2330893.0</td>\n",
       "      <td>376810.0</td>\n",
       "      <td>429398.0</td>\n",
       "    </tr>\n",
       "    <tr>\n",
       "      <th>Online Transfer</th>\n",
       "      <td>16329172.0</td>\n",
       "      <td>375450.0</td>\n",
       "      <td>1287583.0</td>\n",
       "    </tr>\n",
       "    <tr>\n",
       "      <th>Paper Check</th>\n",
       "      <td>2332869.0</td>\n",
       "      <td>376196.0</td>\n",
       "      <td>429013.0</td>\n",
       "    </tr>\n",
       "    <tr>\n",
       "      <th>Payment</th>\n",
       "      <td>5789629.0</td>\n",
       "      <td>353824.0</td>\n",
       "      <td>625110.0</td>\n",
       "    </tr>\n",
       "    <tr>\n",
       "      <th>Wire Payment</th>\n",
       "      <td>4665774.0</td>\n",
       "      <td>753237.0</td>\n",
       "      <td>859280.0</td>\n",
       "    </tr>\n",
       "    <tr>\n",
       "      <th>e-Check Check</th>\n",
       "      <td>16321869.0</td>\n",
       "      <td>375418.0</td>\n",
       "      <td>1291977.0</td>\n",
       "    </tr>\n",
       "  </tbody>\n",
       "</table>\n",
       "</div>"
      ],
      "text/plain": [
       "                                 num_trans                   \\\n",
       "use_case                Use Case 2 - Green Use Case 2 - Red   \n",
       "trans_type                                                    \n",
       "ACH Payment                      6995617.0        1126334.0   \n",
       "ACH PaymentCash Payment          2332970.0         376609.0   \n",
       "ATM Payment                      2332031.0         376759.0   \n",
       "ATM PaymentPaper Check          13991200.0              0.0   \n",
       "Cash Payment                     2330893.0         376810.0   \n",
       "Online Transfer                 16329172.0         375450.0   \n",
       "Paper Check                      2332869.0         376196.0   \n",
       "Payment                          5789629.0         353824.0   \n",
       "Wire Payment                     4665774.0         753237.0   \n",
       "e-Check Check                   16321869.0         375418.0   \n",
       "\n",
       "                                             \n",
       "use_case                Use Case 2 - Yellow  \n",
       "trans_type                                   \n",
       "ACH Payment                       1290448.0  \n",
       "ACH PaymentCash Payment            429694.0  \n",
       "ATM Payment                        429245.0  \n",
       "ATM PaymentPaper Check             858162.0  \n",
       "Cash Payment                       429398.0  \n",
       "Online Transfer                   1287583.0  \n",
       "Paper Check                        429013.0  \n",
       "Payment                            625110.0  \n",
       "Wire Payment                       859280.0  \n",
       "e-Check Check                     1291977.0  "
      ]
     },
     "execution_count": 6,
     "metadata": {},
     "output_type": "execute_result"
    }
   ],
   "source": [
    "trans_by_type_pivoted = trans_by_type.pivot('trans_type', 'use_case')\n",
    "trans_by_type_pivoted = trans_by_type_pivoted.fillna(0)\n",
    "trans_by_type_pivoted"
   ]
  },
  {
   "cell_type": "code",
   "execution_count": 7,
   "metadata": {
    "collapsed": false
   },
   "outputs": [
    {
     "data": {
      "image/png": "[encoded data removed]",
      "text/plain": [
       "<matplotlib.figure.Figure at 0x7f9929bbbd50>"
      ]
     },
     "metadata": {},
     "output_type": "display_data"
    }
   ],
   "source": [
    "_ = trans_by_type_pivoted.plot(kind='bar', figsize=(15,10))"
   ]
  },
  {
   "cell_type": "code",
   "execution_count": 8,
   "metadata": {
    "collapsed": false
   },
   "outputs": [
    {
     "data": {
      "text/html": [
       "<div>\n",
       "<table border=\"1\" class=\"dataframe\">\n",
       "  <thead>\n",
       "    <tr>\n",
       "      <th></th>\n",
       "      <th colspan=\"3\" halign=\"left\">num_trans</th>\n",
       "    </tr>\n",
       "    <tr>\n",
       "      <th>use_case</th>\n",
       "      <th>Use Case 2 - Green</th>\n",
       "      <th>Use Case 2 - Red</th>\n",
       "      <th>Use Case 2 - Yellow</th>\n",
       "    </tr>\n",
       "    <tr>\n",
       "      <th>trans_type</th>\n",
       "      <th></th>\n",
       "      <th></th>\n",
       "      <th></th>\n",
       "    </tr>\n",
       "  </thead>\n",
       "  <tbody>\n",
       "    <tr>\n",
       "      <th>ACH Payment</th>\n",
       "      <td>0.095280</td>\n",
       "      <td>0.250818</td>\n",
       "      <td>0.162732</td>\n",
       "    </tr>\n",
       "    <tr>\n",
       "      <th>ACH PaymentCash Payment</th>\n",
       "      <td>0.031775</td>\n",
       "      <td>0.083865</td>\n",
       "      <td>0.054186</td>\n",
       "    </tr>\n",
       "    <tr>\n",
       "      <th>ATM Payment</th>\n",
       "      <td>0.031762</td>\n",
       "      <td>0.083899</td>\n",
       "      <td>0.054130</td>\n",
       "    </tr>\n",
       "    <tr>\n",
       "      <th>ATM PaymentPaper Check</th>\n",
       "      <td>0.190559</td>\n",
       "      <td>0.000000</td>\n",
       "      <td>0.108218</td>\n",
       "    </tr>\n",
       "    <tr>\n",
       "      <th>Cash Payment</th>\n",
       "      <td>0.031747</td>\n",
       "      <td>0.083910</td>\n",
       "      <td>0.054149</td>\n",
       "    </tr>\n",
       "    <tr>\n",
       "      <th>Online Transfer</th>\n",
       "      <td>0.222402</td>\n",
       "      <td>0.083607</td>\n",
       "      <td>0.162370</td>\n",
       "    </tr>\n",
       "    <tr>\n",
       "      <th>Paper Check</th>\n",
       "      <td>0.031773</td>\n",
       "      <td>0.083773</td>\n",
       "      <td>0.054101</td>\n",
       "    </tr>\n",
       "    <tr>\n",
       "      <th>Payment</th>\n",
       "      <td>0.078854</td>\n",
       "      <td>0.078791</td>\n",
       "      <td>0.078829</td>\n",
       "    </tr>\n",
       "    <tr>\n",
       "      <th>Wire Payment</th>\n",
       "      <td>0.063547</td>\n",
       "      <td>0.167735</td>\n",
       "      <td>0.108359</td>\n",
       "    </tr>\n",
       "    <tr>\n",
       "      <th>e-Check Check</th>\n",
       "      <td>0.222302</td>\n",
       "      <td>0.083600</td>\n",
       "      <td>0.162925</td>\n",
       "    </tr>\n",
       "  </tbody>\n",
       "</table>\n",
       "</div>"
      ],
      "text/plain": [
       "                                 num_trans                   \\\n",
       "use_case                Use Case 2 - Green Use Case 2 - Red   \n",
       "trans_type                                                    \n",
       "ACH Payment                       0.095280         0.250818   \n",
       "ACH PaymentCash Payment           0.031775         0.083865   \n",
       "ATM Payment                       0.031762         0.083899   \n",
       "ATM PaymentPaper Check            0.190559         0.000000   \n",
       "Cash Payment                      0.031747         0.083910   \n",
       "Online Transfer                   0.222402         0.083607   \n",
       "Paper Check                       0.031773         0.083773   \n",
       "Payment                           0.078854         0.078791   \n",
       "Wire Payment                      0.063547         0.167735   \n",
       "e-Check Check                     0.222302         0.083600   \n",
       "\n",
       "                                             \n",
       "use_case                Use Case 2 - Yellow  \n",
       "trans_type                                   \n",
       "ACH Payment                        0.162732  \n",
       "ACH PaymentCash Payment            0.054186  \n",
       "ATM Payment                        0.054130  \n",
       "ATM PaymentPaper Check             0.108218  \n",
       "Cash Payment                       0.054149  \n",
       "Online Transfer                    0.162370  \n",
       "Paper Check                        0.054101  \n",
       "Payment                            0.078829  \n",
       "Wire Payment                       0.108359  \n",
       "e-Check Check                      0.162925  "
      ]
     },
     "execution_count": 8,
     "metadata": {},
     "output_type": "execute_result"
    }
   ],
   "source": [
    "trans_by_type_pivoted = trans_by_type_pivoted.divide(trans_by_type_pivoted.sum(), axis=1)\n",
    "trans_by_type_pivoted"
   ]
  },
  {
   "cell_type": "code",
   "execution_count": 9,
   "metadata": {
    "collapsed": false
   },
   "outputs": [
    {
     "data": {
      "image/png": "[encoded data removed]",
      "text/plain": [
       "<matplotlib.figure.Figure at 0x7f9920453690>"
      ]
     },
     "metadata": {},
     "output_type": "display_data"
    }
   ],
   "source": [
    "_ = trans_by_type_pivoted.plot(kind='bar', figsize=(15,10))"
   ]
  },
  {
   "cell_type": "code",
   "execution_count": 10,
   "metadata": {
    "collapsed": true
   },
   "outputs": [],
   "source": [
    "%%sql --module use_case_2\n",
    "\n",
    "DEFINE QUERY sample_trans\n",
    "SELECT\n",
    "  *\n",
    "FROM\n",
    "  [CreditCardv2.cc_trans_02052016]\n",
    "WHERE\n",
    "  USE_CASE = $use_case AND\n",
    "  CREDIT_DEBIT = 'C'\n",
    "ORDER BY\n",
    "  ACCOUNTID, TRANSACTION_DATE\n",
    "LIMIT\n",
    "  $sample_size"
   ]
  },
  {
   "cell_type": "code",
   "execution_count": 11,
   "metadata": {
    "collapsed": true
   },
   "outputs": [],
   "source": [
    "SAMPLE_SIZE = 1000000\n",
    "\n",
    "GREEN_USE_CASE = 'Use Case 2 - Green'\n",
    "YELLOW_USE_CASE = 'Use Case 2 - Yellow'\n",
    "RED_USE_CASE = 'Use Case 2 - Red'\n",
    "\n",
    "GREEN = 'Green'\n",
    "YELLOW = 'Yellow'\n",
    "RED = 'Red'"
   ]
  },
  {
   "cell_type": "code",
   "execution_count": 12,
   "metadata": {
    "collapsed": true
   },
   "outputs": [],
   "source": [
    "# This function transforms our DataFrame from a row per transaction to a column per credit event type.\n",
    "# This introduces some NaN elements so it also transforms those to 'Missing'\n",
    "# TRANSACTION_DATE is included to allow us to later combine and sort different samples together.\n",
    "\n",
    "def widen_trans_per_account(sample_trans, use_case, width):\n",
    "  \n",
    "  sample_trans_acct_ids = sample_trans.ACCOUNTID.drop_duplicates()\n",
    "\n",
    "  sample_trans_wide = pd.DataFrame()\n",
    "\n",
    "  for sample_trans_acct_id in sample_trans_acct_ids:\n",
    "    sample_trans_acct = sample_trans[sample_trans.ACCOUNTID == sample_trans_acct_id]\n",
    "    tmp = pd.DataFrame()\n",
    "    for i in range(width):\n",
    "      tmp['shift_' + str(i)] = sample_trans_acct.TRANSACTION_TYPE.shift(i)\n",
    "    sample_trans_wide = pd.concat([sample_trans_wide, tmp])\n",
    "\n",
    "  sample_trans_wide['USE_CASE'] = use_case\n",
    "  sample_trans_wide['TRANSACTION_DATE'] = sample_trans.TRANSACTION_DATE\n",
    "  \n",
    "  sample_trans_wide = sample_trans_wide.fillna('Missing')\n",
    "  \n",
    "  return sample_trans_wide"
   ]
  },
  {
   "cell_type": "code",
   "execution_count": 13,
   "metadata": {
    "collapsed": false
   },
   "outputs": [
    {
     "data": {
      "text/html": [
       "<div>\n",
       "<table border=\"1\" class=\"dataframe\">\n",
       "  <thead>\n",
       "    <tr style=\"text-align: right;\">\n",
       "      <th></th>\n",
       "      <th>ROWNUM</th>\n",
       "      <th>ACCOUNTID</th>\n",
       "      <th>MERCHANT_NAME</th>\n",
       "      <th>MERCHANT_CATEGORY_CODE</th>\n",
       "      <th>MERCHANT_CATEGORY_DESC</th>\n",
       "      <th>MERCHANT_COUNTRY</th>\n",
       "      <th>POST_DATE</th>\n",
       "      <th>TRANSACTION_DATE</th>\n",
       "      <th>TRANSACTION_TYPE</th>\n",
       "      <th>CREDIT_DEBIT</th>\n",
       "      <th>CREDIT_LIMIT</th>\n",
       "      <th>AMOUNT</th>\n",
       "      <th>BALANCE</th>\n",
       "      <th>CREDITCARDNUMBER</th>\n",
       "      <th>CC_TYPE</th>\n",
       "      <th>USE_CASE</th>\n",
       "      <th>CUST_NAME</th>\n",
       "      <th>NUM_CCS</th>\n",
       "      <th>CUST_CITY</th>\n",
       "      <th>CUST_STATE</th>\n",
       "      <th>CUST_ZIP</th>\n",
       "      <th>CUST_COUNTRY</th>\n",
       "      <th>TRANS_DETAIL</th>\n",
       "    </tr>\n",
       "  </thead>\n",
       "  <tbody>\n",
       "    <tr>\n",
       "      <th>0</th>\n",
       "      <td>2_2016-02-04 17:45:21</td>\n",
       "      <td>100000039</td>\n",
       "      <td>None</td>\n",
       "      <td>1111</td>\n",
       "      <td>Customer Payment</td>\n",
       "      <td>US</td>\n",
       "      <td>2015-01-06</td>\n",
       "      <td>2015-01-05</td>\n",
       "      <td>e-Check Check</td>\n",
       "      <td>C</td>\n",
       "      <td>20000</td>\n",
       "      <td>101</td>\n",
       "      <td>262</td>\n",
       "      <td>18442345145083904</td>\n",
       "      <td>amex</td>\n",
       "      <td>Use Case 2 - Green</td>\n",
       "      <td>Zilpha Trantow DDS</td>\n",
       "      <td>3</td>\n",
       "      <td>RESEDA</td>\n",
       "      <td>CA</td>\n",
       "      <td>91335</td>\n",
       "      <td>US</td>\n",
       "      <td>None</td>\n",
       "    </tr>\n",
       "    <tr>\n",
       "      <th>1</th>\n",
       "      <td>4_2016-02-04 17:45:21</td>\n",
       "      <td>100000039</td>\n",
       "      <td>None</td>\n",
       "      <td>1111</td>\n",
       "      <td>Customer Payment</td>\n",
       "      <td>US</td>\n",
       "      <td>2015-01-10</td>\n",
       "      <td>2015-01-09</td>\n",
       "      <td>e-Check Check</td>\n",
       "      <td>C</td>\n",
       "      <td>20000</td>\n",
       "      <td>1</td>\n",
       "      <td>16</td>\n",
       "      <td>18442345145083904</td>\n",
       "      <td>amex</td>\n",
       "      <td>Use Case 2 - Green</td>\n",
       "      <td>Zilpha Trantow DDS</td>\n",
       "      <td>3</td>\n",
       "      <td>RESEDA</td>\n",
       "      <td>CA</td>\n",
       "      <td>91335</td>\n",
       "      <td>US</td>\n",
       "      <td>None</td>\n",
       "    </tr>\n",
       "    <tr>\n",
       "      <th>2</th>\n",
       "      <td>7_2016-02-04 17:45:21</td>\n",
       "      <td>100000039</td>\n",
       "      <td>None</td>\n",
       "      <td>1111</td>\n",
       "      <td>Customer Payment</td>\n",
       "      <td>US</td>\n",
       "      <td>2015-01-16</td>\n",
       "      <td>2015-01-15</td>\n",
       "      <td>e-Check Check</td>\n",
       "      <td>C</td>\n",
       "      <td>20000</td>\n",
       "      <td>1</td>\n",
       "      <td>5</td>\n",
       "      <td>18442345145083904</td>\n",
       "      <td>amex</td>\n",
       "      <td>Use Case 2 - Green</td>\n",
       "      <td>Zilpha Trantow DDS</td>\n",
       "      <td>3</td>\n",
       "      <td>RESEDA</td>\n",
       "      <td>CA</td>\n",
       "      <td>91335</td>\n",
       "      <td>US</td>\n",
       "      <td>None</td>\n",
       "    </tr>\n",
       "  </tbody>\n",
       "</table>\n",
       "</div>"
      ],
      "text/plain": [
       "                  ROWNUM  ACCOUNTID MERCHANT_NAME MERCHANT_CATEGORY_CODE  \\\n",
       "0  2_2016-02-04 17:45:21  100000039          None                   1111   \n",
       "1  4_2016-02-04 17:45:21  100000039          None                   1111   \n",
       "2  7_2016-02-04 17:45:21  100000039          None                   1111   \n",
       "\n",
       "  MERCHANT_CATEGORY_DESC MERCHANT_COUNTRY   POST_DATE TRANSACTION_DATE  \\\n",
       "0       Customer Payment               US  2015-01-06       2015-01-05   \n",
       "1       Customer Payment               US  2015-01-10       2015-01-09   \n",
       "2       Customer Payment               US  2015-01-16       2015-01-15   \n",
       "\n",
       "  TRANSACTION_TYPE CREDIT_DEBIT CREDIT_LIMIT AMOUNT BALANCE  \\\n",
       "0    e-Check Check            C        20000    101     262   \n",
       "1    e-Check Check            C        20000      1      16   \n",
       "2    e-Check Check            C        20000      1       5   \n",
       "\n",
       "    CREDITCARDNUMBER CC_TYPE            USE_CASE           CUST_NAME NUM_CCS  \\\n",
       "0  18442345145083904    amex  Use Case 2 - Green  Zilpha Trantow DDS       3   \n",
       "1  18442345145083904    amex  Use Case 2 - Green  Zilpha Trantow DDS       3   \n",
       "2  18442345145083904    amex  Use Case 2 - Green  Zilpha Trantow DDS       3   \n",
       "\n",
       "  CUST_CITY CUST_STATE CUST_ZIP CUST_COUNTRY TRANS_DETAIL  \n",
       "0    RESEDA         CA    91335           US         None  \n",
       "1    RESEDA         CA    91335           US         None  \n",
       "2    RESEDA         CA    91335           US         None  "
      ]
     },
     "execution_count": 13,
     "metadata": {},
     "output_type": "execute_result"
    }
   ],
   "source": [
    "sample_trans_green = bq.Query(use_case_2.sample_trans, use_case = GREEN_USE_CASE, sample_size=SAMPLE_SIZE).to_dataframe()\n",
    "sample_trans_green[:3]"
   ]
  },
  {
   "cell_type": "code",
   "execution_count": null,
   "metadata": {
    "collapsed": true
   },
   "outputs": [],
   "source": [
    "sample_trans_yellow = bq.Query(use_case_2.sample_trans, use_case = YELLOW_USE_CASE, sample_size=SAMPLE_SIZE).to_dataframe()\n",
    "sample_trans_yellow[:3]"
   ]
  },
  {
   "cell_type": "code",
   "execution_count": null,
   "metadata": {
    "collapsed": true
   },
   "outputs": [],
   "source": []
  }
 ],
 "metadata": {
  "kernelspec": {
   "display_name": "Python 2",
   "language": "python",
   "name": "python2"
  },
  "language_info": {
   "codemirror_mode": {
    "name": "ipython",
    "version": 2
   },
   "file_extension": ".py",
   "mimetype": "text/x-python",
   "name": "python",
   "nbconvert_exporter": "python",
   "pygments_lexer": "ipython2",
   "version": "2.7.9"
  }
 },
 "nbformat": 4,
 "nbformat_minor": 0
}
